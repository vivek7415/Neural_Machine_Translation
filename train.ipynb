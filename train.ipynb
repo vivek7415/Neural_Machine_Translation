{
  "nbformat": 4,
  "nbformat_minor": 0,
  "metadata": {
    "language_info": {
      "codemirror_mode": {
        "name": "ipython",
        "version": 3
      },
      "file_extension": ".py",
      "mimetype": "text/x-python",
      "name": "python",
      "nbconvert_exporter": "python",
      "pygments_lexer": "ipython3",
      "version": "3.7.7-final"
    },
    "orig_nbformat": 2,
    "kernelspec": {
      "name": "python3",
      "display_name": "Python 3"
    },
    "colab": {
      "name": "train.ipynb",
      "provenance": []
    },
    "accelerator": "GPU"
  },
  "cells": [
    {
      "cell_type": "code",
      "metadata": {
        "id": "xXvlB7Pu97B6",
        "colab_type": "code",
        "colab": {}
      },
      "source": [
        "import numpy as np\n",
        "import pandas as pd\n",
        "import tensorflow as tf\n",
        "import matplotlib.pyplot as plt\n",
        "import matplotlib.ticker as ticker\n",
        "from sklearn.model_selection import train_test_split\n",
        "import re\n",
        "import os\n",
        "import io\n",
        "import time\n",
        "import unicodedata\n"
      ],
      "execution_count": 4,
      "outputs": []
    },
    {
      "cell_type": "code",
      "metadata": {
        "id": "oAi5Frlm97B_",
        "colab_type": "code",
        "colab": {}
      },
      "source": [
        "def unicode_to_ascii(s):\n",
        "  return ''.join(c for c in unicodedata.normalize('NFD', s)\n",
        "      if unicodedata.category(c) != 'Mn')\n",
        "\n",
        "def preprocess_sentence(w):\n",
        "  w = unicode_to_ascii(w.lower().strip())\n",
        "  w = re.sub(r\"([?.!,¿])\", r\" \\1 \", w)\n",
        "  w = re.sub(r'[\" \"]+', \" \", w)\n",
        "  w = re.sub(r\"[^a-zA-Z?.!,¿]+\", \" \", w)\n",
        "  w = w.strip()\n",
        "  w = '<start> ' + w + ' <end>'\n",
        "  return w"
      ],
      "execution_count": 5,
      "outputs": []
    },
    {
      "cell_type": "code",
      "metadata": {
        "id": "VV5DJMDA97CB",
        "colab_type": "code",
        "colab": {}
      },
      "source": [
        "def create_dataset(path, num_examples):\n",
        "  lines = io.open(path, encoding='UTF-8').read().strip().split('\\n')\n",
        "\n",
        "  word_pairs = [[preprocess_sentence(w) for w in l.split('\\t')]  for l in lines[:num_examples]]\n",
        "\n",
        "  return zip(*word_pairs)"
      ],
      "execution_count": 6,
      "outputs": []
    },
    {
      "cell_type": "code",
      "metadata": {
        "id": "ZiAlnWqZ97CE",
        "colab_type": "code",
        "colab": {}
      },
      "source": [
        "# path = os.path.abspath('.')+'/spa-eng/spa.txt'"
      ],
      "execution_count": 3,
      "outputs": []
    },
    {
      "cell_type": "code",
      "metadata": {
        "id": "H0CdLWn--p84",
        "colab_type": "code",
        "colab": {
          "base_uri": "https://localhost:8080/",
          "height": 122
        },
        "outputId": "eb35c9cc-9ecf-4331-c84e-8a59ff2d3ee0"
      },
      "source": [
        "from google.colab import drive\n",
        "drive.mount('/content/drive')\n"
      ],
      "execution_count": 7,
      "outputs": [
        {
          "output_type": "stream",
          "text": [
            "Go to this URL in a browser: https://accounts.google.com/o/oauth2/auth?client_id=947318989803-6bn6qk8qdgf4n4g3pfee6491hc0brc4i.apps.googleusercontent.com&redirect_uri=urn%3aietf%3awg%3aoauth%3a2.0%3aoob&response_type=code&scope=email%20https%3a%2f%2fwww.googleapis.com%2fauth%2fdocs.test%20https%3a%2f%2fwww.googleapis.com%2fauth%2fdrive%20https%3a%2f%2fwww.googleapis.com%2fauth%2fdrive.photos.readonly%20https%3a%2f%2fwww.googleapis.com%2fauth%2fpeopleapi.readonly\n",
            "\n",
            "Enter your authorization code:\n",
            "··········\n",
            "Mounted at /content/drive\n"
          ],
          "name": "stdout"
        }
      ]
    },
    {
      "cell_type": "code",
      "metadata": {
        "id": "6L_h63ychpj6",
        "colab_type": "code",
        "colab": {}
      },
      "source": [
        "path = os.path.abspath('.')+'/drive/My Drive/spa.txt'"
      ],
      "execution_count": 8,
      "outputs": []
    },
    {
      "cell_type": "code",
      "metadata": {
        "tags": [],
        "id": "Jz_2SfwJ97CG",
        "colab_type": "code",
        "colab": {
          "base_uri": "https://localhost:8080/",
          "height": 71
        },
        "outputId": "2fc9111c-3212-402c-9efb-0c5b118cee96"
      },
      "source": [
        "en, sp, _= create_dataset(path, None)\n",
        "print(en[-1])\n",
        "print(sp[-1])"
      ],
      "execution_count": 9,
      "outputs": [
        {
          "output_type": "stream",
          "text": [
            "<start> if you want to sound like a native speaker , you must be willing to practice saying the same sentence over and over in the same way that banjo players practice the same phrase over and over until they can play it correctly and at the desired tempo . <end>\n",
            "<start> si quieres sonar como un hablante nativo , debes estar dispuesto a practicar diciendo la misma frase una y otra vez de la misma manera en que un musico de banjo practica el mismo fraseo una y otra vez hasta que lo puedan tocar correctamente y en el tiempo esperado . <end>\n"
          ],
          "name": "stdout"
        }
      ]
    },
    {
      "cell_type": "code",
      "metadata": {
        "id": "U-O7zlM3gvtb",
        "colab_type": "code",
        "colab": {}
      },
      "source": [
        ""
      ],
      "execution_count": 9,
      "outputs": []
    },
    {
      "cell_type": "code",
      "metadata": {
        "id": "7pnpLvcCBJNA",
        "colab_type": "code",
        "colab": {
          "base_uri": "https://localhost:8080/",
          "height": 34
        },
        "outputId": "3bae2a94-60cb-4a62-e2de-30c9400688a2"
      },
      "source": [
        "len(en)"
      ],
      "execution_count": 10,
      "outputs": [
        {
          "output_type": "execute_result",
          "data": {
            "text/plain": [
              "124325"
            ]
          },
          "metadata": {
            "tags": []
          },
          "execution_count": 10
        }
      ]
    },
    {
      "cell_type": "code",
      "metadata": {
        "id": "X_gYU2P-97CJ",
        "colab_type": "code",
        "colab": {}
      },
      "source": [
        "def tokenize(lang):\n",
        "  lang_tokenizer = tf.keras.preprocessing.text.Tokenizer(\n",
        "      filters='')\n",
        "  lang_tokenizer.fit_on_texts(lang)\n",
        "\n",
        "  tensor = lang_tokenizer.texts_to_sequences(lang)\n",
        "\n",
        "  tensor = tf.keras.preprocessing.sequence.pad_sequences(tensor,\n",
        "                                                         padding='post')\n",
        "\n",
        "  return tensor, lang_tokenizer"
      ],
      "execution_count": 11,
      "outputs": []
    },
    {
      "cell_type": "code",
      "metadata": {
        "id": "BvTZInjo97CL",
        "colab_type": "code",
        "colab": {}
      },
      "source": [
        "def load_dataset(path, num_examples=None):\n",
        "  # creating cleaned input, output pairs\n",
        "  targ_lang, inp_lang, _ = create_dataset(path, num_examples)\n",
        "\n",
        "  input_tensor, inp_lang_tokenizer = tokenize(inp_lang)\n",
        "  target_tensor, targ_lang_tokenizer = tokenize(targ_lang)\n",
        "\n",
        "  return input_tensor, target_tensor, inp_lang_tokenizer, targ_lang_tokenizer"
      ],
      "execution_count": 12,
      "outputs": []
    },
    {
      "cell_type": "code",
      "metadata": {
        "id": "2u4NtaFC97CN",
        "colab_type": "code",
        "colab": {}
      },
      "source": [
        "num_examples = 30000\n",
        "input_tensor, target_tensor, inp_lang_tok, targ_lang_tok = load_dataset(path, num_examples)\n",
        "max_length_targ, max_length_inp = target_tensor.shape[1], input_tensor.shape[1]"
      ],
      "execution_count": 13,
      "outputs": []
    },
    {
      "cell_type": "code",
      "metadata": {
        "tags": [],
        "id": "HaUdvP5o97CQ",
        "colab_type": "code",
        "colab": {
          "base_uri": "https://localhost:8080/",
          "height": 34
        },
        "outputId": "82f66b3d-d435-4770-c80d-b03cfe076b9d"
      },
      "source": [
        "input_tensor_train, input_tensor_val, target_tensor_train, target_tensor_val = train_test_split(input_tensor, target_tensor, test_size=0.2)\n",
        "\n",
        "print(len(input_tensor_train), len(target_tensor_train), len(input_tensor_val), len(target_tensor_val))\n"
      ],
      "execution_count": 14,
      "outputs": [
        {
          "output_type": "stream",
          "text": [
            "24000 24000 6000 6000\n"
          ],
          "name": "stdout"
        }
      ]
    },
    {
      "cell_type": "code",
      "metadata": {
        "id": "0ZkU8Ym297CS",
        "colab_type": "code",
        "colab": {}
      },
      "source": [
        "def convert(lang, tensor):\n",
        "  for t in tensor:\n",
        "    if t!=0:\n",
        "      print (\"%d ----> %s\" % (t, lang.index_word[t]))"
      ],
      "execution_count": 15,
      "outputs": []
    },
    {
      "cell_type": "code",
      "metadata": {
        "tags": [],
        "id": "Sg1JHMkI97CU",
        "colab_type": "code",
        "colab": {
          "base_uri": "https://localhost:8080/",
          "height": 323
        },
        "outputId": "1e534ca3-cb0c-4809-8f9e-f213054789be"
      },
      "source": [
        "print (\"Input Language; index to word mapping\")\n",
        "convert(inp_lang_tok, input_tensor_train[0])\n",
        "print ()\n",
        "print (\"Target Language; index to word mapping\")\n",
        "convert(targ_lang_tok, target_tensor_train[0])"
      ],
      "execution_count": 16,
      "outputs": [
        {
          "output_type": "stream",
          "text": [
            "Input Language; index to word mapping\n",
            "1 ----> <start>\n",
            "35 ----> tengo\n",
            "11 ----> que\n",
            "459 ----> volver\n",
            "3 ----> .\n",
            "2 ----> <end>\n",
            "\n",
            "Target Language; index to word mapping\n",
            "1 ----> <start>\n",
            "4 ----> i\n",
            "59 ----> ve\n",
            "77 ----> got\n",
            "15 ----> to\n",
            "35 ----> go\n",
            "90 ----> back\n",
            "3 ----> .\n",
            "2 ----> <end>\n"
          ],
          "name": "stdout"
        }
      ]
    },
    {
      "cell_type": "code",
      "metadata": {
        "id": "4vaU7uUx97CX",
        "colab_type": "code",
        "colab": {
          "base_uri": "https://localhost:8080/",
          "height": 34
        },
        "outputId": "08bdfd6b-6aa7-491d-fad9-080818ef1b15"
      },
      "source": [
        "target_tensor.shape"
      ],
      "execution_count": 17,
      "outputs": [
        {
          "output_type": "execute_result",
          "data": {
            "text/plain": [
              "(30000, 11)"
            ]
          },
          "metadata": {
            "tags": []
          },
          "execution_count": 17
        }
      ]
    },
    {
      "cell_type": "code",
      "metadata": {
        "id": "P8Vv5Yj597CZ",
        "colab_type": "code",
        "colab": {}
      },
      "source": [
        "BUFFER_SIZE = len(input_tensor_train)\n",
        "BATCH_SIZE = 64\n",
        "steps_per_epoch = len(input_tensor_train)//BATCH_SIZE\n",
        "embedding_dim = 256\n",
        "units = 1024\n",
        "vocab_inp_size = len(inp_lang_tok.word_index) + 1\n",
        "vocab_tar_size = len(targ_lang_tok.word_index)+ 1\n",
        "\n",
        "dataset = tf.data.Dataset.from_tensor_slices((input_tensor_train, target_tensor_train)).shuffle(BUFFER_SIZE)\n",
        "\n",
        "dataset = dataset.batch(BATCH_SIZE, drop_remainder=True)"
      ],
      "execution_count": 18,
      "outputs": []
    },
    {
      "cell_type": "code",
      "metadata": {
        "tags": [],
        "id": "xl8CuOzD97Cc",
        "colab_type": "code",
        "colab": {
          "base_uri": "https://localhost:8080/",
          "height": 1000
        },
        "outputId": "18cde0f4-5805-410e-9e39-87b437ddbfbb"
      },
      "source": [
        "print(next(iter(dataset)))"
      ],
      "execution_count": 19,
      "outputs": [
        {
          "output_type": "stream",
          "text": [
            "(<tf.Tensor: shape=(64, 16), dtype=int32, numpy=\n",
            "array([[   1,   36,   38, ...,    0,    0,    0],\n",
            "       [   1,   30,    7, ...,    0,    0,    0],\n",
            "       [   1,   58, 2384, ...,    0,    0,    0],\n",
            "       ...,\n",
            "       [   1,   32, 3288, ...,    0,    0,    0],\n",
            "       [   1,   25,   47, ...,    0,    0,    0],\n",
            "       [   1,   27,    7, ...,    0,    0,    0]], dtype=int32)>, <tf.Tensor: shape=(64, 11), dtype=int32, numpy=\n",
            "array([[   1,    4,   66,   49,  775,    3,    2,    0,    0,    0,    0],\n",
            "       [   1,   20,    8,   49,  583,    3,    2,    0,    0,    0,    0],\n",
            "       [   1,   28,  125,  224,    3,    2,    0,    0,    0,    0,    0],\n",
            "       [   1,    7,    8,   10, 3598,    3,    2,    0,    0,    0,    0],\n",
            "       [   1,   14,   11,  630,    3,    2,    0,    0,    0,    0,    0],\n",
            "       [   1,   53,  206,   42,    3,    2,    0,    0,    0,    0,    0],\n",
            "       [   1,  197,   11,   33,  595,    3,    2,    0,    0,    0,    0],\n",
            "       [   1,   17,   91,  557,    3,    2,    0,    0,    0,    0,    0],\n",
            "       [   1,    4,   34, 1746,    3,    2,    0,    0,    0,    0,    0],\n",
            "       [   1,   27,   12,  510,  122,   83,    3,    2,    0,    0,    0],\n",
            "       [   1,    4,   16,  113,   15,  246,    9,    3,    2,    0,    0],\n",
            "       [   1,    7,   58,  229,  341,    3,    2,    0,    0,    0,    0],\n",
            "       [   1,    9,   26,  580,    3,    2,    0,    0,    0,    0,    0],\n",
            "       [   1,    9,   11,   33,  495,    3,    2,    0,    0,    0,    0],\n",
            "       [   1,    7,  442,  735,    3,    2,    0,    0,    0,    0,    0],\n",
            "       [   1,    4,   34,   30,  405,    3,    2,    0,    0,    0,    0],\n",
            "       [   1,    4,   66,  139,    3,    2,    0,    0,    0,    0,    0],\n",
            "       [   1,    7,  499,   15,  145,    3,    2,    0,    0,    0,    0],\n",
            "       [   1,    7,    8, 4559, 2756,    3,    2,    0,    0,    0,    0],\n",
            "       [   1,    8,   55,  457,  204,    6,    2,    0,    0,    0,    0],\n",
            "       [   1,    4,  538,  838,    3,    2,    0,    0,    0,    0,    0],\n",
            "       [   1,    5,   91,   36,   10, 1407,    3,    2,    0,    0,    0],\n",
            "       [   1,   14,  137, 2954,    3,    2,    0,    0,    0,    0,    0],\n",
            "       [   1,    4,  725,    9,   26,    7,    3,    2,    0,    0,    0],\n",
            "       [   1,   67,   25,   13, 1042,    6,    2,    0,    0,    0,    0],\n",
            "       [   1,  603,   17,  470,    6,    2,    0,    0,    0,    0,    0],\n",
            "       [   1,    4,   29,   10,  405,    3,    2,    0,    0,    0,    0],\n",
            "       [   1,    4,  189,   21,  853,    3,    2,    0,    0,    0,    0],\n",
            "       [   1,   78,   40,    5,  287,    6,    2,    0,    0,    0,    0],\n",
            "       [   1,  206,   42,   10, 1722,    3,    2,    0,    0,    0,    0],\n",
            "       [   1,   22,    5,   44,   10,  829,    6,    2,    0,    0,    0],\n",
            "       [   1,  936,  522,    3,    2,    0,    0,    0,    0,    0,    0],\n",
            "       [   1,    4,  174,   34,  142,  772,    3,    2,    0,    0,    0],\n",
            "       [   1,  538,   20,    3,    2,    0,    0,    0,    0,    0,    0],\n",
            "       [   1,    7,   77,   10,  754,    3,    2,    0,    0,    0,    0],\n",
            "       [   1,    7,   11,  885,  209, 2799,    3,    2,    0,    0,    0],\n",
            "       [   1,    9,   11,   10, 1984,    3,    2,    0,    0,    0,    0],\n",
            "       [   1,  559,   13, 1830,    3,    2,    0,    0,    0,    0,    0],\n",
            "       [   1,    7,    8,  983,    3,    2,    0,    0,    0,    0,    0],\n",
            "       [   1,   40,    5,   68,   19,    6,    2,    0,    0,    0,    0],\n",
            "       [   1,    9,   11, 1288,    3,    2,    0,    0,    0,    0,    0],\n",
            "       [   1,  403,   25,   33, 1178,    3,    2,    0,    0,    0,    0],\n",
            "       [   1,    7,  220,  172,    3,    2,    0,    0,    0,    0,    0],\n",
            "       [   1,   14,   26,  469,    3,    2,    0,    0,    0,    0,    0],\n",
            "       [   1,    5,   25, 2828,    3,    2,    0,    0,    0,    0,    0],\n",
            "       [   1,    8,   55,   99,    6,    2,    0,    0,    0,    0,    0],\n",
            "       [   1,   62,   27,   12,   87,    3,    2,    0,    0,    0,    0],\n",
            "       [   1,   40,   14,   35,   55,    6,    2,    0,    0,    0,    0],\n",
            "       [   1,    4,   68,  117,    3,    2,    0,    0,    0,    0,    0],\n",
            "       [   1,   29,   10,  361,   82,   18,    3,    2,    0,    0,    0],\n",
            "       [   1,    4,   66,   36,   13,  176,    3,    2,    0,    0,    0],\n",
            "       [   1,   87, 3563,  153,   37,    2,    0,    0,    0,    0,    0],\n",
            "       [   1,    4,   29,   15,   35,   15,  240,    3,    2,    0,    0],\n",
            "       [   1,    7,  230,  170, 3588,    3,    2,    0,    0,    0,    0],\n",
            "       [   1,   47,   18,  267,    9,    3,    2,    0,    0,    0,    0],\n",
            "       [   1,    7,   24,   12,  318,    3,    2,    0,    0,    0,    0],\n",
            "       [   1,    7,  230,   63,    3,    2,    0,    0,    0,    0,    0],\n",
            "       [   1,    9,   11,  212,   65,    3,    2,    0,    0,    0,    0],\n",
            "       [   1,   76,    5,   35,   50,   81,    6,    2,    0,    0,    0],\n",
            "       [   1, 2248,   13, 1927,    3,    2,    0,    0,    0,    0,    0],\n",
            "       [   1,    4, 2596,   45,    3,    2,    0,    0,    0,    0,    0],\n",
            "       [   1, 2298,  103, 1043,    3,    2,    0,    0,    0,    0,    0],\n",
            "       [   1,    4,   26,  215,    3,    2,    0,    0,    0,    0,    0],\n",
            "       [   1,   19,   11,  884,   37,    2,    0,    0,    0,    0,    0]],\n",
            "      dtype=int32)>)\n"
          ],
          "name": "stdout"
        }
      ]
    },
    {
      "cell_type": "code",
      "metadata": {
        "tags": [],
        "id": "qxRBhWnU97Ce",
        "colab_type": "code",
        "colab": {
          "base_uri": "https://localhost:8080/",
          "height": 51
        },
        "outputId": "d6415b82-0a08-460f-d3a2-7195a1cd6581"
      },
      "source": [
        "x = tf.data.Dataset.from_tensor_slices(([1, 2, 3,4],[5,6,7,8])).shuffle(6)\n",
        "list(x.as_numpy_iterator())\n",
        "x = x.batch(3)\n",
        "list(x.as_numpy_iterator())\n",
        "# dataset = dataset.enumerate(start=5)\n",
        "# for element in dataset.as_numpy_iterator():\n",
        "#   print(element)\n"
      ],
      "execution_count": 20,
      "outputs": [
        {
          "output_type": "execute_result",
          "data": {
            "text/plain": [
              "[(array([1, 3, 2], dtype=int32), array([5, 7, 6], dtype=int32)),\n",
              " (array([4], dtype=int32), array([8], dtype=int32))]"
            ]
          },
          "metadata": {
            "tags": []
          },
          "execution_count": 20
        }
      ]
    },
    {
      "cell_type": "code",
      "metadata": {
        "tags": [],
        "id": "3yatlJDm97Ch",
        "colab_type": "code",
        "colab": {}
      },
      "source": [
        "# print(next(iter(dataset)))"
      ],
      "execution_count": 21,
      "outputs": []
    },
    {
      "cell_type": "code",
      "metadata": {
        "id": "00Ryc7Xo97Cj",
        "colab_type": "code",
        "colab": {}
      },
      "source": [
        "class Encoder(tf.keras.Model):\n",
        "    def __init__(self, vocab_size, embedding_dim, enc_units, batch_size):\n",
        "        super(Encoder, self).__init__()\n",
        "        self.batch_size = batch_size\n",
        "        self.enc_units = enc_units\n",
        "        self.embedding = tf.keras.layers.Embedding(vocab_size, embedding_dim)\n",
        "        self.gru = tf.keras.layers.GRU(self.enc_units,\n",
        "        return_sequences=True,\n",
        "        return_state=True,\n",
        "        recurrent_initializer='glorot_uniform')\n",
        "\n",
        "    def call(self, x, hidden):\n",
        "        x = self.embedding(x)\n",
        "        output, state = self.gru(x, initial_state = hidden)\n",
        "        return output, state\n",
        "\n",
        "    def initialize_hidden_state(self):\n",
        "        return tf.zeros((self.batch_size, self.enc_units))"
      ],
      "execution_count": 22,
      "outputs": []
    },
    {
      "cell_type": "code",
      "metadata": {
        "id": "g53wBy_f97Cl",
        "colab_type": "code",
        "colab": {}
      },
      "source": [
        "encoder = Encoder(vocab_inp_size, embedding_dim, units, BATCH_SIZE)\n",
        "\n",
        "sample_hidden = encoder.initialize_hidden_state()"
      ],
      "execution_count": 23,
      "outputs": []
    },
    {
      "cell_type": "code",
      "metadata": {
        "id": "7QkEZ8zb97Co",
        "colab_type": "code",
        "colab": {
          "base_uri": "https://localhost:8080/",
          "height": 34
        },
        "outputId": "c001acf8-6053-4648-bacb-0d338c7747df"
      },
      "source": [
        "sample_hidden.shape"
      ],
      "execution_count": 24,
      "outputs": [
        {
          "output_type": "execute_result",
          "data": {
            "text/plain": [
              "TensorShape([64, 1024])"
            ]
          },
          "metadata": {
            "tags": []
          },
          "execution_count": 24
        }
      ]
    },
    {
      "cell_type": "code",
      "metadata": {
        "id": "D5T0vx6N97Cq",
        "colab_type": "code",
        "colab": {}
      },
      "source": [
        "example_input_batch, example_target_batch = next(iter(dataset))\n",
        "sample_output, sample_hidden = encoder(example_input_batch, sample_hidden)"
      ],
      "execution_count": 25,
      "outputs": []
    },
    {
      "cell_type": "code",
      "metadata": {
        "id": "HX7LX0S997Ct",
        "colab_type": "code",
        "colab": {
          "base_uri": "https://localhost:8080/",
          "height": 34
        },
        "outputId": "358640ce-0326-4ee4-c019-8488204f7a18"
      },
      "source": [
        "print('Encoder output shape: batch size, sequence length, units {}'.format(sample_output.shape))"
      ],
      "execution_count": 26,
      "outputs": [
        {
          "output_type": "stream",
          "text": [
            "Encoder output shape: batch size, sequence length, units (64, 16, 1024)\n"
          ],
          "name": "stdout"
        }
      ]
    },
    {
      "cell_type": "code",
      "metadata": {
        "id": "2f8Ebcuw__4D",
        "colab_type": "code",
        "colab": {
          "base_uri": "https://localhost:8080/",
          "height": 34
        },
        "outputId": "ad7aaf10-0e1c-4119-db19-6069674d52e0"
      },
      "source": [
        "print('Encoder Hidden state: batch_size, units {}'.format(sample_hidden.shape))"
      ],
      "execution_count": 27,
      "outputs": [
        {
          "output_type": "stream",
          "text": [
            "Encoder Hidden state: batch_size, units (64, 1024)\n"
          ],
          "name": "stdout"
        }
      ]
    },
    {
      "cell_type": "code",
      "metadata": {
        "id": "JDbbpkRoA0hT",
        "colab_type": "code",
        "colab": {}
      },
      "source": [
        "class BahdanauAttention(tf.keras.layers.Layer):\n",
        "  def __init__(self, units):\n",
        "    super(BahdanauAttention, self).__init__()\n",
        "    self.W1 = tf.keras.layers.Dense(units)\n",
        "    self.W2 = tf.keras.layers.Dense(units)\n",
        "    self.V = tf.keras.layers.Dense(1)\n",
        "\n",
        "  def call(self, query, values):\n",
        "    query_with_time_axis = tf.expand_dims(query,1)\n",
        "\n",
        "    score = self.V(tf.nn.tanh(self.W1(query_with_time_axis) + self.W2(values)))\n",
        "\n",
        "    attention_weights = tf.nn.softmax(score, axis=1)\n",
        "\n",
        "    context_vector = attention_weights * values\n",
        "\n",
        "    context_vector = tf.reduce_sum(context_vector, axis=1)\n",
        "\n",
        "    return context_vector, attention_weights"
      ],
      "execution_count": 28,
      "outputs": []
    },
    {
      "cell_type": "code",
      "metadata": {
        "id": "ZVOzgQjJy7wj",
        "colab_type": "code",
        "colab": {
          "base_uri": "https://localhost:8080/",
          "height": 51
        },
        "outputId": "f6c9e984-140d-4113-8d9d-f6c1de40c3bb"
      },
      "source": [
        "attention_layer = BahdanauAttention(10)\n",
        "attention_result, attention_weights = attention_layer(sample_hidden, sample_output)\n",
        "\n",
        "print(\"Attention result shape: (batch_size, units) {}\".format(attention_result.shape))\n",
        "print(\"Attention weights shape: (batch_size, sequence_lengths) {}\".format(attention_weights.shape))"
      ],
      "execution_count": 29,
      "outputs": [
        {
          "output_type": "stream",
          "text": [
            "Attention result shape: (batch_size, units) (64, 1024)\n",
            "Attention weights shape: (batch_size, sequence_lengths) (64, 16, 1)\n"
          ],
          "name": "stdout"
        }
      ]
    },
    {
      "cell_type": "code",
      "metadata": {
        "id": "YoHvgYDmU_S_",
        "colab_type": "code",
        "colab": {}
      },
      "source": [
        "class Decoder(tf.keras.Model):\n",
        "  def __init__(self, vocab_size, embedding_dim, dec_units, batch_size):\n",
        "    super(Decoder, self).__init__()\n",
        "    self.batch_size = batch_size\n",
        "    self.dec_units = dec_units\n",
        "    self.embedding = tf.keras.layers.Embedding(vocab_size, embedding_dim)\n",
        "    self.gru = tf.keras.layers.GRU(self.dec_units,\n",
        "                                   return_sequences=True,\n",
        "                                   return_state=True,\n",
        "                                   recurrent_initializer = 'glorot_uniform')\n",
        "    \n",
        "    self.fc = tf.keras.layers.Dense(vocab_size)\n",
        "\n",
        "    self.attention = BahdanauAttention(self.dec_units)\n",
        "\n",
        "  def call(self, x, hidden, enc_output):\n",
        "    context_vector, attention_weights = self.attention(hidden, enc_output)\n",
        "\n",
        "    x = self.embedding(x)\n",
        "    x = tf.concat([tf.expand_dims(context_vector,1), x], axis=-1)\n",
        "    output, state = self.gru(x)\n",
        "\n",
        "    output = tf.reshape(output, (-1, output.shape[2]))\n",
        "\n",
        "    x = self.fc(output)\n",
        "\n",
        "    return x, state, attention_weights"
      ],
      "execution_count": 30,
      "outputs": []
    },
    {
      "cell_type": "code",
      "metadata": {
        "id": "KBVyEPtSicdB",
        "colab_type": "code",
        "colab": {
          "base_uri": "https://localhost:8080/",
          "height": 34
        },
        "outputId": "7d1f0c78-249b-4917-cb48-a43618c58326"
      },
      "source": [
        "decoder = Decoder(vocab_tar_size, embedding_dim, units, BATCH_SIZE)\n",
        "\n",
        "sample_decoder_output, _, _ = decoder(tf.random.uniform((BATCH_SIZE, 1)), sample_hidden, sample_output)\n",
        "\n",
        "print('decoder output shape: (batch_size, vocab_size) {}'.format(sample_decoder_output.shape))\n"
      ],
      "execution_count": 31,
      "outputs": [
        {
          "output_type": "stream",
          "text": [
            "decoder output shape: (batch_size, vocab_size) (64, 4817)\n"
          ],
          "name": "stdout"
        }
      ]
    },
    {
      "cell_type": "code",
      "metadata": {
        "id": "fd_T4QZDlwb_",
        "colab_type": "code",
        "colab": {}
      },
      "source": [
        "optimizer = tf.keras.optimizers.Adam()\n",
        "loss_object = tf.keras.losses.SparseCategoricalCrossentropy(from_logits=True, reduction='none')\n",
        "\n",
        "def loss_function(real, pred):\n",
        "  mask = tf.math.logical_not(tf.math.equal(real,0))\n",
        "  loss_ = loss_object(real, pred)\n",
        "\n",
        "  mask = tf.cast(mask, dtype=loss_.dtype)\n",
        "  loss_ *= mask\n",
        "\n",
        "  return tf.reduce_mean(loss_)"
      ],
      "execution_count": 32,
      "outputs": []
    },
    {
      "cell_type": "code",
      "metadata": {
        "id": "L53OV8g1fwsk",
        "colab_type": "code",
        "colab": {}
      },
      "source": [
        "checkpoint_dir = os.path.abspath('.')+\"/drive/My Drive/training_checkpoints\"\n",
        "checkpoint_prefix = os.path.join(checkpoint_dir, 'ckpt')\n",
        "checkpoint = tf.train.Checkpoint(optimizer=optimizer, encoder=encoder, decoder=decoder)"
      ],
      "execution_count": 33,
      "outputs": []
    },
    {
      "cell_type": "code",
      "metadata": {
        "id": "9pKQdiIyiYtO",
        "colab_type": "code",
        "colab": {
          "base_uri": "https://localhost:8080/",
          "height": 34
        },
        "outputId": "570a3b2b-a216-4a2e-d800-82d8f41b92b2"
      },
      "source": [
        "targ_lang_tok.word_index['<start>']"
      ],
      "execution_count": 34,
      "outputs": [
        {
          "output_type": "execute_result",
          "data": {
            "text/plain": [
              "1"
            ]
          },
          "metadata": {
            "tags": []
          },
          "execution_count": 34
        }
      ]
    },
    {
      "cell_type": "code",
      "metadata": {
        "id": "0PnZz_yohOWg",
        "colab_type": "code",
        "colab": {}
      },
      "source": [
        "@tf.function\n",
        "def train_step(inp, targ, enc_hidden):\n",
        "  loss=0\n",
        "\n",
        "  with tf.GradientTape() as tape:\n",
        "\n",
        "    enc_output, enc_hidden = encoder(inp, enc_hidden)\n",
        "    dec_hidden = enc_hidden\n",
        "    dec_input = tf.expand_dims([targ_lang_tok.word_index['<start>']] * BATCH_SIZE, 1)\n",
        "\n",
        "    for t in range(1, targ.shape[1]):\n",
        "      predictions, dec_hidden, _ = decoder(dec_input, dec_hidden, enc_output)\n",
        "\n",
        "      loss += loss_function(targ[:, t], predictions)\n",
        "      dec_input = tf.expand_dims(targ[:, t], 1)\n",
        "\n",
        "    batch_loss = (loss/ int(targ.shape[1]))\n",
        "    variables = encoder.trainable_variables + decoder.trainable_variables\n",
        "    gradients = tape.gradient(loss, variables)\n",
        "    optimizer.apply_gradients(zip(gradients, variables))\n",
        "    return batch_loss\n",
        "\n"
      ],
      "execution_count": 35,
      "outputs": []
    },
    {
      "cell_type": "code",
      "metadata": {
        "id": "zyHCeJgAlVN7",
        "colab_type": "code",
        "colab": {
          "base_uri": "https://localhost:8080/",
          "height": 1000
        },
        "outputId": "69470460-a322-43dc-8ad0-31870387e83e"
      },
      "source": [
        "for (batch, (inp, targ)) in enumerate(dataset.take(steps_per_epoch)):\n",
        "  print(batch)\n",
        "  print(inp)\n",
        "  print(targ)\n",
        "  break"
      ],
      "execution_count": 36,
      "outputs": [
        {
          "output_type": "stream",
          "text": [
            "0\n",
            "tf.Tensor(\n",
            "[[   1    5   89 ...    0    0    0]\n",
            " [   1   23  133 ...    0    0    0]\n",
            " [   1 2181   14 ...    0    0    0]\n",
            " ...\n",
            " [   1    5   29 ...    0    0    0]\n",
            " [   1    8   12 ...    0    0    0]\n",
            " [   1   14  372 ...    0    0    0]], shape=(64, 16), dtype=int32)\n",
            "tf.Tensor(\n",
            "[[   1    8  446   55    6    2    0    0    0    0    0]\n",
            " [   1    4   66  459   61  121    3    2    0    0    0]\n",
            " [   1  107  653    3    2    0    0    0    0    0    0]\n",
            " [   1   27   12   88   90    3    2    0    0    0    0]\n",
            " [   1   87 1634   18   37    2    0    0    0    0    0]\n",
            " [   1   17   72    9   39    3    2    0    0    0    0]\n",
            " [   1   54  598    5    6    2    0    0    0    0    0]\n",
            " [   1    4  325    7   15   52    3    2    0    0    0]\n",
            " [   1   20   93   12   56 1753    3    2    0    0    0]\n",
            " [   1  372    8   30  397    6    2    0    0    0    0]\n",
            " [   1   32   11   13 2754    6    2    0    0    0    0]\n",
            " [   1    8   19  388    6    2    0    0    0    0    0]\n",
            " [   1   13   84    8  587    3    2    0    0    0    0]\n",
            " [   1  180   13 3349    3    2    0    0    0    0    0]\n",
            " [   1 1809   24  250    3    2    0    0    0    0    0]\n",
            " [   1    4  141   90   89  161    3    2    0    0    0]\n",
            " [   1    4  116 1047  158    3    2    0    0    0    0]\n",
            " [   1   17   23   69 2125    3    2    0    0    0    0]\n",
            " [   1   20    8   49  752    3    2    0    0    0    0]\n",
            " [   1    4   57  661 1773    3    2    0    0    0    0]\n",
            " [   1   20    8   70 1622    3    2    0    0    0    0]\n",
            " [   1    4   59  395    9    3    2    0    0    0    0]\n",
            " [   1    5   24  144    9   55    3    2    0    0    0]\n",
            " [   1    4   24  123   56    5    3    2    0    0    0]\n",
            " [   1  132   14  138  434    6    2    0    0    0    0]\n",
            " [   1    4   16 2328  326    3    2    0    0    0    0]\n",
            " [   1   47   11   35   15   10  763    3    2    0    0]\n",
            " [   1   13 2733    8 2342    3    2    0    0    0    0]\n",
            " [   1   54  286  419    6    2    0    0    0    0    0]\n",
            " [   1  465    7    8  276    3    2    0    0    0    0]\n",
            " [   1    5   25   13  284    3    2    0    0    0    0]\n",
            " [   1    4   59  351  237 1069    3    2    0    0    0]\n",
            " [   1   13  210    8  334    3    2    0    0    0    0]\n",
            " [   1    8   31   30  447    6    2    0    0    0    0]\n",
            " [   1   27   12 2575   18    3    2    0    0    0    0]\n",
            " [   1   17  239   78    3    2    0    0    0    0    0]\n",
            " [   1   71  106  363    3    2    0    0    0    0    0]\n",
            " [   1    4   38   35   42   21  517    3    2    0    0]\n",
            " [   1  428   36   13 3863    3    2    0    0    0    0]\n",
            " [   1    7   58  459  341    3    2    0    0    0    0]\n",
            " [   1    9   11   10  243    3    2    0    0    0    0]\n",
            " [   1   60  114  170   55    3    2    0    0    0    0]\n",
            " [   1   14  108   41  192 2253    3    2    0    0    0]\n",
            " [   1    9   11   21  438   99  131    3    2    0    0]\n",
            " [   1    4   72    5   86  165    3    2    0    0    0]\n",
            " [   1    4   95   74  126    3    2    0    0    0    0]\n",
            " [   1    4   16   10  354    3    2    0    0    0    0]\n",
            " [   1  128    9   36  434    3    2    0    0    0    0]\n",
            " [   1    5   88 1013    3    2    0    0    0    0    0]\n",
            " [   1   28   23   21  264    3    2    0    0    0    0]\n",
            " [   1   27   12  415   21 1041    3    2    0    0    0]\n",
            " [   1    4 1101   54   58   52    3    2    0    0    0]\n",
            " [   1    7  356    3    2    0    0    0    0    0    0]\n",
            " [   1 3936    8   10 1261    3    2    0    0    0    0]\n",
            " [   1  686  294    9    3    2    0    0    0    0    0]\n",
            " [   1   88   90   37    2    0    0    0    0    0    0]\n",
            " [   1   19   11   10  357    3    2    0    0    0    0]\n",
            " [   1    4   38   98   20   15    7    3    2    0    0]\n",
            " [   1    4  256   10  204 2305    3    2    0    0    0]\n",
            " [   1    4  174  246   19    3    2    0    0    0    0]\n",
            " [   1   51  430  382  230    6    2    0    0    0    0]\n",
            " [   1   22    5   34  434    6    2    0    0    0    0]\n",
            " [   1   27   12  106   18  455    3    2    0    0    0]\n",
            " [   1  382   25   86  276    3    2    0    0    0    0]], shape=(64, 11), dtype=int32)\n"
          ],
          "name": "stdout"
        }
      ]
    },
    {
      "cell_type": "code",
      "metadata": {
        "id": "Dqr__cDhkze0",
        "colab_type": "code",
        "colab": {
          "base_uri": "https://localhost:8080/",
          "height": 1000
        },
        "outputId": "96a7bbb7-3105-4d05-9fed-ec5ad5f03c5c"
      },
      "source": [
        "EPOCHS = 10\n",
        "\n",
        "for epoch in range(EPOCHS):\n",
        "  start = time.time()\n",
        "  enc_hidden = encoder.initialize_hidden_state()\n",
        "  total_loss = 0\n",
        "\n",
        "  for (batch, (inp, targ)) in enumerate(dataset.take(steps_per_epoch)):\n",
        "    batch_loss = train_step(inp, targ, enc_hidden)\n",
        "    total_loss += batch_loss\n",
        "\n",
        "    if batch % 100 == 0:\n",
        "      print('Epoch {} Batch {} Loss {:.4f}'.format(epoch+1, batch, batch_loss.numpy()))\n",
        "\n",
        "  if (epoch + 1) % 2 ==0:\n",
        "    checkpoint.save(file_prefix= checkpoint_prefix)\n",
        "  \n",
        "  print('Epoch {}, Loss {}'.format(epoch+1, total_loss/steps_per_epoch))\n",
        "\n",
        "  print('Time taken for 1 epoch {} sec \\n'.format(time.time() - start))"
      ],
      "execution_count": 46,
      "outputs": [
        {
          "output_type": "stream",
          "text": [
            "Epoch 1 Batch 0 Loss 4.4089\n",
            "Epoch 1 Batch 100 Loss 2.1233\n",
            "Epoch 1 Batch 200 Loss 1.8076\n",
            "Epoch 1 Batch 300 Loss 1.6243\n",
            "Epoch 1, Loss 2.010434150695801\n",
            "Time taken for 1 epoch 43.3237361907959 sec \n",
            "\n",
            "Epoch 2 Batch 0 Loss 1.5292\n",
            "Epoch 2 Batch 100 Loss 1.4762\n",
            "Epoch 2 Batch 200 Loss 1.3745\n",
            "Epoch 2 Batch 300 Loss 1.2801\n",
            "Epoch 2, Loss 1.350333571434021\n",
            "Time taken for 1 epoch 32.97252702713013 sec \n",
            "\n",
            "Epoch 3 Batch 0 Loss 1.0744\n",
            "Epoch 3 Batch 100 Loss 0.9748\n",
            "Epoch 3 Batch 200 Loss 0.8279\n",
            "Epoch 3 Batch 300 Loss 0.8952\n",
            "Epoch 3, Loss 0.9298057556152344\n",
            "Time taken for 1 epoch 32.10030651092529 sec \n",
            "\n",
            "Epoch 4 Batch 0 Loss 0.6432\n",
            "Epoch 4 Batch 100 Loss 0.6000\n",
            "Epoch 4 Batch 200 Loss 0.5846\n",
            "Epoch 4 Batch 300 Loss 0.6167\n",
            "Epoch 4, Loss 0.6250849962234497\n",
            "Time taken for 1 epoch 33.39562177658081 sec \n",
            "\n",
            "Epoch 5 Batch 0 Loss 0.4089\n",
            "Epoch 5 Batch 100 Loss 0.4123\n",
            "Epoch 5 Batch 200 Loss 0.3813\n",
            "Epoch 5 Batch 300 Loss 0.3902\n",
            "Epoch 5, Loss 0.4226386845111847\n",
            "Time taken for 1 epoch 31.902763605117798 sec \n",
            "\n",
            "Epoch 6 Batch 0 Loss 0.2716\n",
            "Epoch 6 Batch 100 Loss 0.2458\n",
            "Epoch 6 Batch 200 Loss 0.3016\n",
            "Epoch 6 Batch 300 Loss 0.3043\n",
            "Epoch 6, Loss 0.2937929928302765\n",
            "Time taken for 1 epoch 32.770418882369995 sec \n",
            "\n",
            "Epoch 7 Batch 0 Loss 0.2920\n",
            "Epoch 7 Batch 100 Loss 0.1949\n",
            "Epoch 7 Batch 200 Loss 0.2242\n",
            "Epoch 7 Batch 300 Loss 0.2655\n",
            "Epoch 7, Loss 0.20901694893836975\n",
            "Time taken for 1 epoch 31.969480276107788 sec \n",
            "\n",
            "Epoch 8 Batch 0 Loss 0.1183\n",
            "Epoch 8 Batch 100 Loss 0.1617\n",
            "Epoch 8 Batch 200 Loss 0.1565\n",
            "Epoch 8 Batch 300 Loss 0.1857\n",
            "Epoch 8, Loss 0.15616463124752045\n",
            "Time taken for 1 epoch 33.16887617111206 sec \n",
            "\n",
            "Epoch 9 Batch 0 Loss 0.1289\n",
            "Epoch 9 Batch 100 Loss 0.0765\n",
            "Epoch 9 Batch 200 Loss 0.1537\n",
            "Epoch 9 Batch 300 Loss 0.1237\n",
            "Epoch 9, Loss 0.12090999633073807\n",
            "Time taken for 1 epoch 31.87824273109436 sec \n",
            "\n",
            "Epoch 10 Batch 0 Loss 0.0755\n",
            "Epoch 10 Batch 100 Loss 0.0848\n",
            "Epoch 10 Batch 200 Loss 0.0794\n",
            "Epoch 10 Batch 300 Loss 0.1054\n",
            "Epoch 10, Loss 0.10035225749015808\n",
            "Time taken for 1 epoch 32.81871008872986 sec \n",
            "\n"
          ],
          "name": "stdout"
        }
      ]
    },
    {
      "cell_type": "code",
      "metadata": {
        "id": "6eZ0GJXnmzRK",
        "colab_type": "code",
        "colab": {}
      },
      "source": [
        "def evaluate(sentence):\n",
        "  attention_plot = np.zeros((max_length_targ, max_length_inp))\n",
        "  sentence = preprocess_sentence(sentence)\n",
        "  inputs = [inp_lang_tok.word_index[i] for i in sentence.split(' ')]\n",
        "  inputs = tf.keras.preprocessing.sequence.pad_sequences([inputs], maxlen=max_length_inp, padding='post')\n",
        "\n",
        "  inputs = tf.convert_to_tensor(inputs)\n",
        "\n",
        "  result = ''\n",
        "\n",
        "  hidden = [tf.zeros((1, units))]\n",
        "  enc_out, enc_hidden = encoder(inputs, hidden)\n",
        "\n",
        "  dec_hidden = enc_hidden\n",
        "  dec_input = tf.expand_dims([targ_lang_tok.word_index['<start>']], 0)\n",
        "\n",
        "  for t in range(max_length_targ):\n",
        "    predictions, dec_hidden, attention_weights = decoder(dec_input, dec_hidden, enc_out)\n",
        "\n",
        "    attention_weights = tf.reshape(attention_weights, (-1, ))\n",
        "    attention_plot[t] = attention_weights.numpy()\n",
        "\n",
        "    predicted_id = tf.argmax(predictions[0]).numpy()\n",
        "\n",
        "    result += targ_lang_tok.index_word[predicted_id] + ' '\n",
        "\n",
        "    if targ_lang_tok.index_word[predicted_id] == '<end>':\n",
        "      return result, sentence, attention_plot\n",
        "    \n",
        "    dec_input = tf.expand_dims([predicted_id], 0)\n",
        "\n",
        "  return result, sentence, attention_plot"
      ],
      "execution_count": 37,
      "outputs": []
    },
    {
      "cell_type": "code",
      "metadata": {
        "id": "n6S7jmHXgnTA",
        "colab_type": "code",
        "colab": {}
      },
      "source": [
        "def plot_attention(attention, sentence, predicted_sentence):\n",
        "  fig = plt.figure(figsize=(10, 10))\n",
        "  ax = fig.add_subplot(1,1,1)\n",
        "  ax.matshow(attention, cmap='viridis')\n",
        "\n",
        "  fontdict = {'fontsize': 14}\n",
        "\n",
        "  ax.set_xticklabels([''] + sentence, fontdict = fontdict, rotation=90)\n",
        "  ax.set_yticklabels([''] + predicted_sentence, fontdict=fontdict)\n",
        "\n",
        "  ax.xaxis.set_major_locator(ticker.MultipleLocator(1))\n",
        "  ax.yaxis.set_major_locator(ticker.MultipleLocator(1))\n",
        "\n",
        "  plt.show()"
      ],
      "execution_count": 38,
      "outputs": []
    },
    {
      "cell_type": "code",
      "metadata": {
        "id": "nUBXrETOkr6E",
        "colab_type": "code",
        "colab": {}
      },
      "source": [
        "def translate(sentence):\n",
        "  result, sentence, attention_plot = evaluate(sentence)\n",
        "\n",
        "  print('Input: %s' % (sentence))\n",
        "  print('Predicted translations: {}'.format(result))\n",
        "\n",
        "  attention_plot = attention_plot[:len(result.split(' ')), :len(sentence.split(' '))]\n",
        "  plot_attention(attention_plot, sentence.split(\" \"), result.split(' '))"
      ],
      "execution_count": 39,
      "outputs": []
    },
    {
      "cell_type": "code",
      "metadata": {
        "id": "KjLxp52omNyR",
        "colab_type": "code",
        "colab": {
          "base_uri": "https://localhost:8080/",
          "height": 34
        },
        "outputId": "62bffbc4-8b3d-40b1-fa8f-31b71e88424b"
      },
      "source": [
        "checkpoint.restore(tf.train.latest_checkpoint(checkpoint_dir))"
      ],
      "execution_count": 40,
      "outputs": [
        {
          "output_type": "execute_result",
          "data": {
            "text/plain": [
              "<tensorflow.python.training.tracking.util.CheckpointLoadStatus at 0x7f70d81eff28>"
            ]
          },
          "metadata": {
            "tags": []
          },
          "execution_count": 40
        }
      ]
    },
    {
      "cell_type": "code",
      "metadata": {
        "id": "_SexUGDwmbDX",
        "colab_type": "code",
        "colab": {
          "base_uri": "https://localhost:8080/",
          "height": 675
        },
        "outputId": "cafcc592-5808-48b3-b30f-3cf3e7da9c79"
      },
      "source": [
        "translate(u'hace mucho frio aqui.')"
      ],
      "execution_count": 43,
      "outputs": [
        {
          "output_type": "stream",
          "text": [
            "Input: <start> hace mucho frio aqui . <end>\n",
            "Predicted translations: it s very cold here . <end> \n"
          ],
          "name": "stdout"
        },
        {
          "output_type": "display_data",
          "data": {
            "image/png": "[encoded data removed]",
            "text/plain": [
              "<Figure size 720x720 with 1 Axes>"
            ]
          },
          "metadata": {
            "tags": [],
            "needs_background": "light"
          }
        }
      ]
    },
    {
      "cell_type": "code",
      "metadata": {
        "id": "CuIPBvBVmmdE",
        "colab_type": "code",
        "colab": {}
      },
      "source": [
        ""
      ],
      "execution_count": null,
      "outputs": []
    }
  ]
}