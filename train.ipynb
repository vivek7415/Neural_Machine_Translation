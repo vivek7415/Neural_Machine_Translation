{
  "nbformat": 4,
  "nbformat_minor": 0,
  "metadata": {
    "language_info": {
      "codemirror_mode": {
        "name": "ipython",
        "version": 3
      },
      "file_extension": ".py",
      "mimetype": "text/x-python",
      "name": "python",
      "nbconvert_exporter": "python",
      "pygments_lexer": "ipython3",
      "version": "3.7.7-final"
    },
    "orig_nbformat": 2,
    "kernelspec": {
      "name": "python3",
      "display_name": "Python 3"
    },
    "colab": {
      "name": "train.ipynb",
      "provenance": []
    },
    "accelerator": "GPU"
  },
  "cells": [
    {
      "cell_type": "code",
      "metadata": {
        "id": "xXvlB7Pu97B6",
        "colab_type": "code",
        "colab": {}
      },
      "source": [
        "import numpy as numpy\n",
        "import pandas as pd\n",
        "import tensorflow as tf\n",
        "import matplotlib.pyplot as plt\n",
        "import matplotlib.ticker as ticker\n",
        "from sklearn.model_selection import train_test_split\n",
        "import re\n",
        "import os\n",
        "import io\n",
        "import time\n",
        "import unicodedata\n"
      ],
      "execution_count": 10,
      "outputs": []
    },
    {
      "cell_type": "code",
      "metadata": {
        "id": "oAi5Frlm97B_",
        "colab_type": "code",
        "colab": {}
      },
      "source": [
        "def unicode_to_ascii(s):\n",
        "  return ''.join(c for c in unicodedata.normalize('NFD', s)\n",
        "      if unicodedata.category(c) != 'Mn')\n",
        "\n",
        "def preprocess_sentence(w):\n",
        "  w = unicode_to_ascii(w.lower().strip())\n",
        "  w = re.sub(r\"([?.!,¿])\", r\" \\1 \", w)\n",
        "  w = re.sub(r'[\" \"]+', \" \", w)\n",
        "  w = re.sub(r\"[^a-zA-Z?.!,¿]+\", \" \", w)\n",
        "  w = w.strip()\n",
        "  w = '<start> ' + w + ' <end>'\n",
        "  return w"
      ],
      "execution_count": 11,
      "outputs": []
    },
    {
      "cell_type": "code",
      "metadata": {
        "id": "VV5DJMDA97CB",
        "colab_type": "code",
        "colab": {}
      },
      "source": [
        "def create_dataset(path, num_examples):\n",
        "  lines = io.open(path, encoding='UTF-8').read().strip().split('\\n')\n",
        "\n",
        "  word_pairs = [[preprocess_sentence(w) for w in l.split('\\t')]  for l in lines[:num_examples]]\n",
        "\n",
        "  return zip(*word_pairs)"
      ],
      "execution_count": 12,
      "outputs": []
    },
    {
      "cell_type": "code",
      "metadata": {
        "id": "ZiAlnWqZ97CE",
        "colab_type": "code",
        "colab": {}
      },
      "source": [
        "# path = os.path.abspath('.')+'/spa-eng/spa.txt'"
      ],
      "execution_count": 13,
      "outputs": []
    },
    {
      "cell_type": "code",
      "metadata": {
        "id": "H0CdLWn--p84",
        "colab_type": "code",
        "colab": {
          "base_uri": "https://localhost:8080/",
          "height": 54
        },
        "outputId": "c55c171c-7eba-4291-afeb-9f350d58afe4"
      },
      "source": [
        "from google.colab import drive\n",
        "drive.mount('/content/drive')\n"
      ],
      "execution_count": 14,
      "outputs": [
        {
          "output_type": "stream",
          "text": [
            "Drive already mounted at /content/drive; to attempt to forcibly remount, call drive.mount(\"/content/drive\", force_remount=True).\n"
          ],
          "name": "stdout"
        }
      ]
    },
    {
      "cell_type": "code",
      "metadata": {
        "id": "6L_h63ychpj6",
        "colab_type": "code",
        "colab": {}
      },
      "source": [
        "path = os.path.abspath('.')+'/drive/My Drive/spa.txt'"
      ],
      "execution_count": 15,
      "outputs": []
    },
    {
      "cell_type": "code",
      "metadata": {
        "tags": [],
        "id": "Jz_2SfwJ97CG",
        "colab_type": "code",
        "colab": {
          "base_uri": "https://localhost:8080/",
          "height": 71
        },
        "outputId": "93139bf7-467a-4a55-b1b0-1e308fc34222"
      },
      "source": [
        "en, sp, _= create_dataset(path, None)\n",
        "print(en[-1])\n",
        "print(sp[-1])"
      ],
      "execution_count": 16,
      "outputs": [
        {
          "output_type": "stream",
          "text": [
            "<start> if you want to sound like a native speaker , you must be willing to practice saying the same sentence over and over in the same way that banjo players practice the same phrase over and over until they can play it correctly and at the desired tempo . <end>\n",
            "<start> si quieres sonar como un hablante nativo , debes estar dispuesto a practicar diciendo la misma frase una y otra vez de la misma manera en que un musico de banjo practica el mismo fraseo una y otra vez hasta que lo puedan tocar correctamente y en el tiempo esperado . <end>\n"
          ],
          "name": "stdout"
        }
      ]
    },
    {
      "cell_type": "code",
      "metadata": {
        "id": "U-O7zlM3gvtb",
        "colab_type": "code",
        "colab": {}
      },
      "source": [
        ""
      ],
      "execution_count": 16,
      "outputs": []
    },
    {
      "cell_type": "code",
      "metadata": {
        "id": "7pnpLvcCBJNA",
        "colab_type": "code",
        "colab": {
          "base_uri": "https://localhost:8080/",
          "height": 34
        },
        "outputId": "471a389c-c22d-481c-de29-651492d03fe9"
      },
      "source": [
        "len(en)"
      ],
      "execution_count": 17,
      "outputs": [
        {
          "output_type": "execute_result",
          "data": {
            "text/plain": [
              "124325"
            ]
          },
          "metadata": {
            "tags": []
          },
          "execution_count": 17
        }
      ]
    },
    {
      "cell_type": "code",
      "metadata": {
        "id": "X_gYU2P-97CJ",
        "colab_type": "code",
        "colab": {}
      },
      "source": [
        "def tokenize(lang):\n",
        "  lang_tokenizer = tf.keras.preprocessing.text.Tokenizer(\n",
        "      filters='')\n",
        "  lang_tokenizer.fit_on_texts(lang)\n",
        "\n",
        "  tensor = lang_tokenizer.texts_to_sequences(lang)\n",
        "\n",
        "  tensor = tf.keras.preprocessing.sequence.pad_sequences(tensor,\n",
        "                                                         padding='post')\n",
        "\n",
        "  return tensor, lang_tokenizer"
      ],
      "execution_count": 18,
      "outputs": []
    },
    {
      "cell_type": "code",
      "metadata": {
        "id": "BvTZInjo97CL",
        "colab_type": "code",
        "colab": {}
      },
      "source": [
        "def load_dataset(path, num_examples=None):\n",
        "  # creating cleaned input, output pairs\n",
        "  targ_lang, inp_lang, _ = create_dataset(path, num_examples)\n",
        "\n",
        "  input_tensor, inp_lang_tokenizer = tokenize(inp_lang)\n",
        "  target_tensor, targ_lang_tokenizer = tokenize(targ_lang)\n",
        "\n",
        "  return input_tensor, target_tensor, inp_lang_tokenizer, targ_lang_tokenizer"
      ],
      "execution_count": 19,
      "outputs": []
    },
    {
      "cell_type": "code",
      "metadata": {
        "id": "2u4NtaFC97CN",
        "colab_type": "code",
        "colab": {}
      },
      "source": [
        "num_examples = 30000\n",
        "input_tensor, target_tensor, inp_lang_tok, targ_lang_tok = load_dataset(path, num_examples)\n",
        "max_length_targ, max_length_inp = target_tensor.shape[1], input_tensor.shape[1]"
      ],
      "execution_count": 20,
      "outputs": []
    },
    {
      "cell_type": "code",
      "metadata": {
        "tags": [],
        "id": "HaUdvP5o97CQ",
        "colab_type": "code",
        "colab": {
          "base_uri": "https://localhost:8080/",
          "height": 34
        },
        "outputId": "2d2ca7c0-f9da-4542-ec2a-1b7836facb40"
      },
      "source": [
        "input_tensor_train, input_tensor_val, target_tensor_train, target_tensor_val = train_test_split(input_tensor, target_tensor, test_size=0.2)\n",
        "\n",
        "print(len(input_tensor_train), len(target_tensor_train), len(input_tensor_val), len(target_tensor_val))\n"
      ],
      "execution_count": 21,
      "outputs": [
        {
          "output_type": "stream",
          "text": [
            "24000 24000 6000 6000\n"
          ],
          "name": "stdout"
        }
      ]
    },
    {
      "cell_type": "code",
      "metadata": {
        "id": "0ZkU8Ym297CS",
        "colab_type": "code",
        "colab": {}
      },
      "source": [
        "def convert(lang, tensor):\n",
        "  for t in tensor:\n",
        "    if t!=0:\n",
        "      print (\"%d ----> %s\" % (t, lang.index_word[t]))"
      ],
      "execution_count": 22,
      "outputs": []
    },
    {
      "cell_type": "code",
      "metadata": {
        "tags": [],
        "id": "Sg1JHMkI97CU",
        "colab_type": "code",
        "colab": {
          "base_uri": "https://localhost:8080/",
          "height": 289
        },
        "outputId": "8079e1b9-c801-4772-bfcb-3da1ca2e0e63"
      },
      "source": [
        "print (\"Input Language; index to word mapping\")\n",
        "convert(inp_lang_tok, input_tensor_train[0])\n",
        "print ()\n",
        "print (\"Target Language; index to word mapping\")\n",
        "convert(targ_lang_tok, target_tensor_train[0])"
      ],
      "execution_count": 23,
      "outputs": [
        {
          "output_type": "stream",
          "text": [
            "Input Language; index to word mapping\n",
            "1 ----> <start>\n",
            "9 ----> el\n",
            "2477 ----> tamano\n",
            "141 ----> si\n",
            "438 ----> importa\n",
            "3 ----> .\n",
            "2 ----> <end>\n",
            "\n",
            "Target Language; index to word mapping\n",
            "1 ----> <start>\n",
            "1259 ----> size\n",
            "132 ----> does\n",
            "825 ----> matter\n",
            "3 ----> .\n",
            "2 ----> <end>\n"
          ],
          "name": "stdout"
        }
      ]
    },
    {
      "cell_type": "code",
      "metadata": {
        "id": "4vaU7uUx97CX",
        "colab_type": "code",
        "colab": {
          "base_uri": "https://localhost:8080/",
          "height": 34
        },
        "outputId": "7d3ce5a2-9309-488c-9a6a-7d0c7123a463"
      },
      "source": [
        "target_tensor.shape"
      ],
      "execution_count": 24,
      "outputs": [
        {
          "output_type": "execute_result",
          "data": {
            "text/plain": [
              "(30000, 11)"
            ]
          },
          "metadata": {
            "tags": []
          },
          "execution_count": 24
        }
      ]
    },
    {
      "cell_type": "code",
      "metadata": {
        "id": "P8Vv5Yj597CZ",
        "colab_type": "code",
        "colab": {}
      },
      "source": [
        "BUFFER_SIZE = len(input_tensor_train)\n",
        "BATCH_SIZE = 64\n",
        "steps_per_epoch = len(input_tensor_train)//BATCH_SIZE\n",
        "embedding_dim = 256\n",
        "units = 1024\n",
        "vocab_inp_size = len(inp_lang_tok.word_index) + 1\n",
        "vocab_tar_size = len(targ_lang_tok.word_index)+ 1\n",
        "\n",
        "dataset = tf.data.Dataset.from_tensor_slices((input_tensor_train, target_tensor_train)).shuffle(BUFFER_SIZE)\n",
        "\n",
        "dataset = dataset.batch(BATCH_SIZE, drop_remainder=True)"
      ],
      "execution_count": 34,
      "outputs": []
    },
    {
      "cell_type": "code",
      "metadata": {
        "tags": [],
        "id": "xl8CuOzD97Cc",
        "colab_type": "code",
        "colab": {
          "base_uri": "https://localhost:8080/",
          "height": 1000
        },
        "outputId": "e324682b-4446-4c7b-a4e0-a6c8495df352"
      },
      "source": [
        "print(next(iter(dataset)))"
      ],
      "execution_count": 35,
      "outputs": [
        {
          "output_type": "stream",
          "text": [
            "(<tf.Tensor: shape=(64, 16), dtype=int32, numpy=\n",
            "array([[  1,   5,  59, ...,   0,   0,   0],\n",
            "       [  1,   8, 129, ...,   0,   0,   0],\n",
            "       [  1,   6,  16, ...,   0,   0,   0],\n",
            "       ...,\n",
            "       [  1,  18, 327, ...,   0,   0,   0],\n",
            "       [  1,   5,  23, ...,   0,   0,   0],\n",
            "       [  1,   8,  61, ...,   0,   0,   0]], dtype=int32)>, <tf.Tensor: shape=(64, 11), dtype=int32, numpy=\n",
            "array([[   1,   67,   11,   30,  390,    6,    2,    0,    0,    0,    0],\n",
            "       [   1,   17,   27,   12,   29,   10,  105,    3,    2,    0,    0],\n",
            "       [   1,    7,    8, 4562,   46,    3,    2,    0,    0,    0,    0],\n",
            "       [   1,    5,   25,   49,  281,    3,    2,    0,    0,    0,    0],\n",
            "       [   1,    4,   77,  330,    3,    2,    0,    0,    0,    0,    0],\n",
            "       [   1,   27,   12,  392,   30,  328,    3,    2,    0,    0,    0],\n",
            "       [   1,   70,   80,   95,   83,    3,    2,    0,    0,    0,    0],\n",
            "       [   1,    7,   95,   46,  126,    3,    2,    0,    0,    0,    0],\n",
            "       [   1,  396,  530,    8,   20,    6,    2,    0,    0,    0,    0],\n",
            "       [   1,   17,   23,  426,    3,    2,    0,    0,    0,    0,    0],\n",
            "       [   1,  383,   11,  175,   37,    2,    0,    0,    0,    0,    0],\n",
            "       [   1,  400,   30, 1507,    3,    2,    0,    0,    0,    0,    0],\n",
            "       [   1,   31,  137,  101,    3,    2,    0,    0,    0,    0,    0],\n",
            "       [   1,   91,    5,   55,   50,   81,    6,    2,    0,    0,    0],\n",
            "       [   1,    9,   11,   39,    3,    2,    0,    0,    0,    0,    0],\n",
            "       [   1,    4,  124,  487,   39,    3,    2,    0,    0,    0,    0],\n",
            "       [   1,   14,    8,   81,  139,    3,    2,    0,    0,    0,    0],\n",
            "       [   1,    8,   13,  352,  175,    6,    2,    0,    0,    0,    0],\n",
            "       [   1,   14,   58, 2401,    3,    2,    0,    0,    0,    0,    0],\n",
            "       [   1,    4,  128,   32,    4,  115,    3,    2,    0,    0,    0],\n",
            "       [   1,    4,   29,   10,  322,   39,    3,    2,    0,    0,    0],\n",
            "       [   1,    4,  545,   12,  386,    3,    2,    0,    0,    0,    0],\n",
            "       [   1,    4,  380,  343,    3,    2,    0,    0,    0,    0,    0],\n",
            "       [   1,   62,  112,    3,    2,    0,    0,    0,    0,    0,    0],\n",
            "       [   1,   24,    4,   52,    6,    2,    0,    0,    0,    0,    0],\n",
            "       [   1,  179,   40,   20,  416,    6,    2,    0,    0,    0,    0],\n",
            "       [   1,   24,    4,  110,    9,   42,    6,    2,    0,    0,    0],\n",
            "       [   1,    7,    8,   10,   65,  169,    3,    2,    0,    0,    0],\n",
            "       [   1,    5,   23,   13,  712,    3,    2,    0,    0,    0,    0],\n",
            "       [   1,    4,   27,   12,  202,    3,    2,    0,    0,    0,    0],\n",
            "       [   1,    4,   16,  101,   50,    7,    3,    2,    0,    0,    0],\n",
            "       [   1,   20,   97,  289,  512,    3,    2,    0,    0,    0,    0],\n",
            "       [   1,    4,   16,  420,    3,    2,    0,    0,    0,    0,    0],\n",
            "       [   1,    8,   14,   10,  333,    6,    2,    0,    0,    0,    0],\n",
            "       [   1,   54,  452,   30,  341,    6,    2,    0,    0,    0,    0],\n",
            "       [   1,    5,  323,    6,    2,    0,    0,    0,    0,    0,    0],\n",
            "       [   1,   13, 2927,    8, 2342,    3,    2,    0,    0,    0,    0],\n",
            "       [   1,  178,  859,    3,    2,    0,    0,    0,    0,    0,    0],\n",
            "       [   1,   14,    8, 3137,   15,   22,    9,    3,    2,    0,    0],\n",
            "       [   1,   24,    5,  267,   18,    6,    2,    0,    0,    0,    0],\n",
            "       [   1,    4,   26,   79,  622,    3,    2,    0,    0,    0,    0],\n",
            "       [   1, 1633,   48,   19, 1863,    3,    2,    0,    0,    0,    0],\n",
            "       [   1,   47,   11,  171,   45,    3,    2,    0,    0,    0,    0],\n",
            "       [   1,    4,  124,  343,    3,    2,    0,    0,    0,    0,    0],\n",
            "       [   1,   28,  811,    7,    3,    2,    0,    0,    0,    0,    0],\n",
            "       [   1,   14,  294,   13,  512,    3,    2,    0,    0,    0,    0],\n",
            "       [   1,   28,  247,  564,    3,    2,    0,    0,    0,    0,    0],\n",
            "       [   1,  134,  225,    3,    2,    0,    0,    0,    0,    0,    0],\n",
            "       [   1,  501,   11,   13,  255,    3,    2,    0,    0,    0,    0],\n",
            "       [   1,   20,  552,  808,  136,    3,    2,    0,    0,    0,    0],\n",
            "       [   1,  702,   13,   84,    3,    2,    0,    0,    0,    0,    0],\n",
            "       [   1,   22,    5,  173,   36,  155,    6,    2,    0,    0,    0],\n",
            "       [   1,    5,   59,   47,   18,  114,    3,    2,    0,    0,    0],\n",
            "       [   1,   31,   58,  860,  531,    3,    2,    0,    0,    0,    0],\n",
            "       [   1,    7,    8,  102,  338,    3,    2,    0,    0,    0,    0],\n",
            "       [   1,   55,   11,   70, 1321,    3,    2,    0,    0,    0,    0],\n",
            "       [   1,  245,   76,   22,    3,    2,    0,    0,    0,    0,    0],\n",
            "       [   1,    4,   16,  139,    3,    2,    0,    0,    0,    0,    0],\n",
            "       [   1,   20, 3078,    8, 1581,    3,    2,    0,    0,    0,    0],\n",
            "       [   1,   54,  987,   13,  484,    6,    2,    0,    0,    0,    0],\n",
            "       [   1,    5,   24,  147,    9,    3,    2,    0,    0,    0,    0],\n",
            "       [   1,    4,   40,   19,   63,  234,    3,    2,    0,    0,    0],\n",
            "       [   1,   66,    4, 3303,    6,    2,    0,    0,    0,    0,    0],\n",
            "       [   1,    9,  562,   41,  199,    3,    2,    0,    0,    0,    0]],\n",
            "      dtype=int32)>)\n"
          ],
          "name": "stdout"
        }
      ]
    },
    {
      "cell_type": "code",
      "metadata": {
        "tags": [],
        "id": "qxRBhWnU97Ce",
        "colab_type": "code",
        "colab": {
          "base_uri": "https://localhost:8080/",
          "height": 51
        },
        "outputId": "137188f0-5850-4645-b5bd-6678ba41eb7e"
      },
      "source": [
        "x = tf.data.Dataset.from_tensor_slices(([1, 2, 3,4],[5,6,7,8])).shuffle(6)\n",
        "list(x.as_numpy_iterator())\n",
        "x = x.batch(3)\n",
        "list(x.as_numpy_iterator())\n",
        "# dataset = dataset.enumerate(start=5)\n",
        "# for element in dataset.as_numpy_iterator():\n",
        "#   print(element)\n"
      ],
      "execution_count": 33,
      "outputs": [
        {
          "output_type": "execute_result",
          "data": {
            "text/plain": [
              "[(array([4, 2, 1], dtype=int32), array([8, 6, 5], dtype=int32)),\n",
              " (array([3], dtype=int32), array([7], dtype=int32))]"
            ]
          },
          "metadata": {
            "tags": []
          },
          "execution_count": 33
        }
      ]
    },
    {
      "cell_type": "code",
      "metadata": {
        "tags": [],
        "id": "3yatlJDm97Ch",
        "colab_type": "code",
        "colab": {}
      },
      "source": [
        "# print(next(iter(dataset)))"
      ],
      "execution_count": 28,
      "outputs": []
    },
    {
      "cell_type": "code",
      "metadata": {
        "id": "00Ryc7Xo97Cj",
        "colab_type": "code",
        "colab": {}
      },
      "source": [
        "class Encoder(tf.keras.Model):\n",
        "    def __init__(self, vocab_size, embedding_dim, enc_units, batch_size):\n",
        "        super(Encoder, self).__init__()\n",
        "        self.batch_size = batch_size\n",
        "        self.enc_units = enc_units\n",
        "        self.embedding = tf.keras.layers.Embedding(vocab_size, embedding_dim)\n",
        "        self.gru = tf.keras.layers.GRU(self.enc_units,\n",
        "        return_sequences=True,\n",
        "        return_state=True,\n",
        "        recurrent_initializer='glorot_uniform')\n",
        "\n",
        "    def call(self, x, hidden):\n",
        "        x = self.embedding(x)\n",
        "        output, state = self.gru(x, initial_state = hidden)\n",
        "        return output, state\n",
        "\n",
        "    def initialize_hidden_state(self):\n",
        "        return tf.zeros((self.batch_size, self.enc_units))"
      ],
      "execution_count": 36,
      "outputs": []
    },
    {
      "cell_type": "code",
      "metadata": {
        "id": "g53wBy_f97Cl",
        "colab_type": "code",
        "colab": {}
      },
      "source": [
        "encoder = Encoder(vocab_inp_size, embedding_dim, units, BATCH_SIZE)\n",
        "\n",
        "sample_hidden = encoder.initialize_hidden_state()"
      ],
      "execution_count": 37,
      "outputs": []
    },
    {
      "cell_type": "code",
      "metadata": {
        "id": "7QkEZ8zb97Co",
        "colab_type": "code",
        "colab": {
          "base_uri": "https://localhost:8080/",
          "height": 34
        },
        "outputId": "7541b58d-efcb-4ce3-ff6c-6bf794cfd6e4"
      },
      "source": [
        "sample_hidden.shape"
      ],
      "execution_count": 38,
      "outputs": [
        {
          "output_type": "execute_result",
          "data": {
            "text/plain": [
              "TensorShape([64, 1024])"
            ]
          },
          "metadata": {
            "tags": []
          },
          "execution_count": 38
        }
      ]
    },
    {
      "cell_type": "code",
      "metadata": {
        "id": "D5T0vx6N97Cq",
        "colab_type": "code",
        "colab": {}
      },
      "source": [
        "example_input_batch, example_target_batch = next(iter(dataset))\n",
        "sample_output, sample_hidden = encoder(example_input_batch, sample_hidden)"
      ],
      "execution_count": 39,
      "outputs": []
    },
    {
      "cell_type": "code",
      "metadata": {
        "id": "HX7LX0S997Ct",
        "colab_type": "code",
        "colab": {
          "base_uri": "https://localhost:8080/",
          "height": 34
        },
        "outputId": "6a5da944-e598-4fc1-cccf-4aa3e4fb9e25"
      },
      "source": [
        "print('Encoder output shape: batch size, sequence length, units {}'.format(sample_output.shape))"
      ],
      "execution_count": 40,
      "outputs": [
        {
          "output_type": "stream",
          "text": [
            "Encoder output shape: batch size, sequence length, units (64, 16, 1024)\n"
          ],
          "name": "stdout"
        }
      ]
    },
    {
      "cell_type": "code",
      "metadata": {
        "id": "2f8Ebcuw__4D",
        "colab_type": "code",
        "colab": {
          "base_uri": "https://localhost:8080/",
          "height": 34
        },
        "outputId": "6116631e-d3d7-4f5e-8acf-212faaeb58f0"
      },
      "source": [
        "print('Encoder Hidden state: batch_size, units {}'.format(sample_hidden.shape))"
      ],
      "execution_count": 41,
      "outputs": [
        {
          "output_type": "stream",
          "text": [
            "Encoder Hidden state: batch_size, units (64, 1024)\n"
          ],
          "name": "stdout"
        }
      ]
    },
    {
      "cell_type": "code",
      "metadata": {
        "id": "JDbbpkRoA0hT",
        "colab_type": "code",
        "colab": {}
      },
      "source": [
        "class BahdanauAttention(tf.keras.layers.Layer):\n",
        "  def __init__(self, units):\n",
        "    super(BahdanauAttention, self).__init__()\n",
        "    self.W1 = tf.keras.layers.Dense(units)\n",
        "    self.W2 = tf.keras.layers.Dense(units)\n",
        "    self.V = tf.keras.layers.Dense(1)\n",
        "\n",
        "  def call(self, query, values):\n",
        "    query_with_time_axis = tf.expand_dims(query,1)\n",
        "\n",
        "    score = self.V(tf.nn.tanh(self.W1(query_with_time_axis) + self.W2(values)))\n",
        "\n",
        "    attention_weights = tf.nn.softmax(score, axis=1)\n",
        "\n",
        "    context_vector = attention_weights * values\n",
        "\n",
        "    context_vector = tf.reduce_sum(context_vector, axis=1)\n",
        "\n",
        "    return context_vector, attention_weights"
      ],
      "execution_count": 45,
      "outputs": []
    },
    {
      "cell_type": "code",
      "metadata": {
        "id": "ZVOzgQjJy7wj",
        "colab_type": "code",
        "colab": {
          "base_uri": "https://localhost:8080/",
          "height": 51
        },
        "outputId": "7c012ad7-92e6-4577-e0c7-15f419c981f1"
      },
      "source": [
        "attention_layer = BahdanauAttention(10)\n",
        "attention_result, attention_weights = attention_layer(sample_hidden, sample_output)\n",
        "\n",
        "print(\"Attention result shape: (batch_size, units) {}\".format(attention_result.shape))\n",
        "print(\"Attention weights shape: (batch_size, sequence_lengths) {}\".format(attention_weights.shape))"
      ],
      "execution_count": 46,
      "outputs": [
        {
          "output_type": "stream",
          "text": [
            "Attention result shape: (batch_size, units) (64, 1024)\n",
            "Attention weights shape: (batch_size, sequence_lengths) (64, 16, 1)\n"
          ],
          "name": "stdout"
        }
      ]
    },
    {
      "cell_type": "code",
      "metadata": {
        "id": "YoHvgYDmU_S_",
        "colab_type": "code",
        "colab": {}
      },
      "source": [
        "class Decoder(tf.keras.Model):\n",
        "  def __init__(self, vocab_size, embedding_dim, dec_units, batch_size):\n",
        "    super(Decoder, self).__init__()\n",
        "    self.batch_size = batch_size\n",
        "    self.dec_units = dec_units\n",
        "    self.embedding = tf.keras.layers.Embedding(vocab_size, embedding_dim)\n",
        "    self.gru = tf.keras.layers.GRU(self.dec_units,\n",
        "                                   return_sequences=True,\n",
        "                                   return_state=True,\n",
        "                                   recurrent_initializer = 'glorot_uniform')\n",
        "    \n",
        "    self.fc = tf.keras.layers.Dense(vocab_size)\n",
        "\n",
        "    self.attention = BahdanauAttention(self.dec_units)\n",
        "\n",
        "  def call(self, x, hidden, enc_output):\n",
        "    context_vector, attention_weights = self.attention(hidden, enc_output)\n",
        "\n",
        "    x = self.embedding(x)\n",
        "    x = tf.concat([tf.expand_dims(context_vector,1), x], axis=-1)\n",
        "    output, state = self.gru(x)\n",
        "\n",
        "    output = tf.reshape(output, (-1, output.shape[2]))\n",
        "\n",
        "    x = self.fc(output)\n",
        "\n",
        "    return x, state, attention_weights"
      ],
      "execution_count": 59,
      "outputs": []
    },
    {
      "cell_type": "code",
      "metadata": {
        "id": "KBVyEPtSicdB",
        "colab_type": "code",
        "colab": {
          "base_uri": "https://localhost:8080/",
          "height": 34
        },
        "outputId": "8bacc468-3aef-43e6-c0c8-21f778b36e9f"
      },
      "source": [
        "decoder = Decoder(vocab_tar_size, embedding_dim, units, BATCH_SIZE)\n",
        "\n",
        "sample_decoder_output, _, _ = decoder(tf.random.uniform((BATCH_SIZE, 1)), sample_hidden, sample_output)\n",
        "\n",
        "print('decoder output shape: (batch_size, vocab_size) {}'.format(sample_decoder_output.shape))\n"
      ],
      "execution_count": 60,
      "outputs": [
        {
          "output_type": "stream",
          "text": [
            "decoder output shape: (batch_size, vocab_size) (64, 4817)\n"
          ],
          "name": "stdout"
        }
      ]
    },
    {
      "cell_type": "code",
      "metadata": {
        "id": "fd_T4QZDlwb_",
        "colab_type": "code",
        "colab": {}
      },
      "source": [
        ""
      ],
      "execution_count": null,
      "outputs": []
    }
  ]
}