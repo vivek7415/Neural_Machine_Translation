{
  "nbformat": 4,
  "nbformat_minor": 0,
  "metadata": {
    "language_info": {
      "codemirror_mode": {
        "name": "ipython",
        "version": 3
      },
      "file_extension": ".py",
      "mimetype": "text/x-python",
      "name": "python",
      "nbconvert_exporter": "python",
      "pygments_lexer": "ipython3",
      "version": "3.7.7-final"
    },
    "orig_nbformat": 2,
    "kernelspec": {
      "name": "python3",
      "display_name": "Python 3"
    },
    "colab": {
      "name": "train.ipynb",
      "provenance": []
    },
    "accelerator": "GPU"
  },
  "cells": [
    {
      "cell_type": "code",
      "metadata": {
        "id": "xXvlB7Pu97B6",
        "colab_type": "code",
        "colab": {}
      },
      "source": [
        "import numpy as numpy\n",
        "import pandas as pd\n",
        "import tensorflow as tf\n",
        "import matplotlib.pyplot as plt\n",
        "import matplotlib.ticker as ticker\n",
        "from sklearn.model_selection import train_test_split\n",
        "import re\n",
        "import os\n",
        "import io\n",
        "import time\n",
        "import unicodedata\n"
      ],
      "execution_count": 7,
      "outputs": []
    },
    {
      "cell_type": "code",
      "metadata": {
        "id": "oAi5Frlm97B_",
        "colab_type": "code",
        "colab": {}
      },
      "source": [
        "def unicode_to_ascii(s):\n",
        "  return ''.join(c for c in unicodedata.normalize('NFD', s)\n",
        "      if unicodedata.category(c) != 'Mn')\n",
        "\n",
        "def preprocess_sentence(w):\n",
        "  w = unicode_to_ascii(w.lower().strip())\n",
        "  w = re.sub(r\"([?.!,¿])\", r\" \\1 \", w)\n",
        "  w = re.sub(r'[\" \"]+', \" \", w)\n",
        "  w = re.sub(r\"[^a-zA-Z?.!,¿]+\", \" \", w)\n",
        "  w = w.strip()\n",
        "  w = '<start> ' + w + ' <end>'\n",
        "  return w"
      ],
      "execution_count": 1,
      "outputs": []
    },
    {
      "cell_type": "code",
      "metadata": {
        "id": "VV5DJMDA97CB",
        "colab_type": "code",
        "colab": {}
      },
      "source": [
        "def create_dataset(path, num_examples):\n",
        "  lines = io.open(path, encoding='UTF-8').read().strip().split('\\n')\n",
        "\n",
        "  word_pairs = [[preprocess_sentence(w) for w in l.split('\\t')]  for l in lines[:num_examples]]\n",
        "\n",
        "  return zip(*word_pairs)"
      ],
      "execution_count": 2,
      "outputs": []
    },
    {
      "cell_type": "code",
      "metadata": {
        "id": "ZiAlnWqZ97CE",
        "colab_type": "code",
        "colab": {}
      },
      "source": [
        "# path = os.path.abspath('.')+'/spa-eng/spa.txt'"
      ],
      "execution_count": 3,
      "outputs": []
    },
    {
      "cell_type": "code",
      "metadata": {
        "id": "H0CdLWn--p84",
        "colab_type": "code",
        "colab": {
          "base_uri": "https://localhost:8080/",
          "height": 122
        },
        "outputId": "c42f5a40-7b3d-495c-e5e2-b1f592ac257e"
      },
      "source": [
        "from google.colab import drive\n",
        "drive.mount('/content/drive')\n"
      ],
      "execution_count": 4,
      "outputs": [
        {
          "output_type": "stream",
          "text": [
            "Go to this URL in a browser: https://accounts.google.com/o/oauth2/auth?client_id=947318989803-6bn6qk8qdgf4n4g3pfee6491hc0brc4i.apps.googleusercontent.com&redirect_uri=urn%3aietf%3awg%3aoauth%3a2.0%3aoob&response_type=code&scope=email%20https%3a%2f%2fwww.googleapis.com%2fauth%2fdocs.test%20https%3a%2f%2fwww.googleapis.com%2fauth%2fdrive%20https%3a%2f%2fwww.googleapis.com%2fauth%2fdrive.photos.readonly%20https%3a%2f%2fwww.googleapis.com%2fauth%2fpeopleapi.readonly\n",
            "\n",
            "Enter your authorization code:\n",
            "··········\n",
            "Mounted at /content/drive\n"
          ],
          "name": "stdout"
        }
      ]
    },
    {
      "cell_type": "code",
      "metadata": {
        "id": "6L_h63ychpj6",
        "colab_type": "code",
        "colab": {}
      },
      "source": [
        "path = os.path.abspath('.')+'/drive/My Drive/spa.txt'"
      ],
      "execution_count": 9,
      "outputs": []
    },
    {
      "cell_type": "code",
      "metadata": {
        "tags": [],
        "id": "Jz_2SfwJ97CG",
        "colab_type": "code",
        "colab": {
          "base_uri": "https://localhost:8080/",
          "height": 71
        },
        "outputId": "835e81f5-c03f-4a79-a21f-df62ef4ad30f"
      },
      "source": [
        "en, sp, _= create_dataset(path, None)\n",
        "print(en[-1])\n",
        "print(sp[-1])"
      ],
      "execution_count": 10,
      "outputs": [
        {
          "output_type": "stream",
          "text": [
            "<start> if you want to sound like a native speaker , you must be willing to practice saying the same sentence over and over in the same way that banjo players practice the same phrase over and over until they can play it correctly and at the desired tempo . <end>\n",
            "<start> si quieres sonar como un hablante nativo , debes estar dispuesto a practicar diciendo la misma frase una y otra vez de la misma manera en que un musico de banjo practica el mismo fraseo una y otra vez hasta que lo puedan tocar correctamente y en el tiempo esperado . <end>\n"
          ],
          "name": "stdout"
        }
      ]
    },
    {
      "cell_type": "code",
      "metadata": {
        "id": "U-O7zlM3gvtb",
        "colab_type": "code",
        "colab": {}
      },
      "source": [
        ""
      ],
      "execution_count": 10,
      "outputs": []
    },
    {
      "cell_type": "code",
      "metadata": {
        "id": "7pnpLvcCBJNA",
        "colab_type": "code",
        "colab": {
          "base_uri": "https://localhost:8080/",
          "height": 34
        },
        "outputId": "24f12cfd-5239-420d-bc9e-aaacaa48ba5b"
      },
      "source": [
        "len(en)"
      ],
      "execution_count": 11,
      "outputs": [
        {
          "output_type": "execute_result",
          "data": {
            "text/plain": [
              "124325"
            ]
          },
          "metadata": {
            "tags": []
          },
          "execution_count": 11
        }
      ]
    },
    {
      "cell_type": "code",
      "metadata": {
        "id": "X_gYU2P-97CJ",
        "colab_type": "code",
        "colab": {}
      },
      "source": [
        "def tokenize(lang):\n",
        "  lang_tokenizer = tf.keras.preprocessing.text.Tokenizer(\n",
        "      filters='')\n",
        "  lang_tokenizer.fit_on_texts(lang)\n",
        "\n",
        "  tensor = lang_tokenizer.texts_to_sequences(lang)\n",
        "\n",
        "  tensor = tf.keras.preprocessing.sequence.pad_sequences(tensor,\n",
        "                                                         padding='post')\n",
        "\n",
        "  return tensor, lang_tokenizer"
      ],
      "execution_count": 12,
      "outputs": []
    },
    {
      "cell_type": "code",
      "metadata": {
        "id": "BvTZInjo97CL",
        "colab_type": "code",
        "colab": {}
      },
      "source": [
        "def load_dataset(path, num_examples=None):\n",
        "  # creating cleaned input, output pairs\n",
        "  targ_lang, inp_lang, _ = create_dataset(path, num_examples)\n",
        "\n",
        "  input_tensor, inp_lang_tokenizer = tokenize(inp_lang)\n",
        "  target_tensor, targ_lang_tokenizer = tokenize(targ_lang)\n",
        "\n",
        "  return input_tensor, target_tensor, inp_lang_tokenizer, targ_lang_tokenizer"
      ],
      "execution_count": 13,
      "outputs": []
    },
    {
      "cell_type": "code",
      "metadata": {
        "id": "2u4NtaFC97CN",
        "colab_type": "code",
        "colab": {}
      },
      "source": [
        "num_examples = 30000\n",
        "input_tensor, target_tensor, inp_lang_tok, targ_lang_tok = load_dataset(path, num_examples)\n",
        "max_length_targ, max_length_inp = target_tensor.shape[1], input_tensor.shape[1]"
      ],
      "execution_count": 14,
      "outputs": []
    },
    {
      "cell_type": "code",
      "metadata": {
        "tags": [],
        "id": "HaUdvP5o97CQ",
        "colab_type": "code",
        "colab": {
          "base_uri": "https://localhost:8080/",
          "height": 34
        },
        "outputId": "98ee9edb-f5a6-42e1-a6ac-0b9e44ed0923"
      },
      "source": [
        "input_tensor_train, input_tensor_val, target_tensor_train, target_tensor_val = train_test_split(input_tensor, target_tensor, test_size=0.2)\n",
        "\n",
        "print(len(input_tensor_train), len(target_tensor_train), len(input_tensor_val), len(target_tensor_val))\n"
      ],
      "execution_count": 15,
      "outputs": [
        {
          "output_type": "stream",
          "text": [
            "24000 24000 6000 6000\n"
          ],
          "name": "stdout"
        }
      ]
    },
    {
      "cell_type": "code",
      "metadata": {
        "id": "0ZkU8Ym297CS",
        "colab_type": "code",
        "colab": {}
      },
      "source": [
        "def convert(lang, tensor):\n",
        "  for t in tensor:\n",
        "    if t!=0:\n",
        "      print (\"%d ----> %s\" % (t, lang.index_word[t]))"
      ],
      "execution_count": 16,
      "outputs": []
    },
    {
      "cell_type": "code",
      "metadata": {
        "tags": [],
        "id": "Sg1JHMkI97CU",
        "colab_type": "code",
        "colab": {
          "base_uri": "https://localhost:8080/",
          "height": 272
        },
        "outputId": "fa61f254-48a9-4f8e-f02f-e0420cdd7731"
      },
      "source": [
        "print (\"Input Language; index to word mapping\")\n",
        "convert(inp_lang_tok, input_tensor_train[0])\n",
        "print ()\n",
        "print (\"Target Language; index to word mapping\")\n",
        "convert(targ_lang_tok, target_tensor_train[0])"
      ],
      "execution_count": 17,
      "outputs": [
        {
          "output_type": "stream",
          "text": [
            "Input Language; index to word mapping\n",
            "1 ----> <start>\n",
            "9 ----> el\n",
            "216 ----> habla\n",
            "165 ----> rapido\n",
            "3 ----> .\n",
            "2 ----> <end>\n",
            "\n",
            "Target Language; index to word mapping\n",
            "1 ----> <start>\n",
            "14 ----> he\n",
            "879 ----> talks\n",
            "232 ----> fast\n",
            "3 ----> .\n",
            "2 ----> <end>\n"
          ],
          "name": "stdout"
        }
      ]
    },
    {
      "cell_type": "code",
      "metadata": {
        "id": "4vaU7uUx97CX",
        "colab_type": "code",
        "colab": {
          "base_uri": "https://localhost:8080/",
          "height": 34
        },
        "outputId": "a9f363cb-c29e-456e-f1a0-f02770663120"
      },
      "source": [
        "target_tensor.shape"
      ],
      "execution_count": 18,
      "outputs": [
        {
          "output_type": "execute_result",
          "data": {
            "text/plain": [
              "(30000, 11)"
            ]
          },
          "metadata": {
            "tags": []
          },
          "execution_count": 18
        }
      ]
    },
    {
      "cell_type": "code",
      "metadata": {
        "id": "P8Vv5Yj597CZ",
        "colab_type": "code",
        "colab": {}
      },
      "source": [
        "BUFFER_SIZE = len(input_tensor_train)\n",
        "BATCH_SIZE = 64\n",
        "steps_per_epoch = len(input_tensor_train)//BATCH_SIZE\n",
        "embedding_dim = 256\n",
        "units = 1024\n",
        "vocab_inp_size = len(inp_lang_tok.word_index) + 1\n",
        "vocab_tar_size = len(targ_lang_tok.word_index)+ 1\n",
        "\n",
        "dataset = tf.data.Dataset.from_tensor_slices((input_tensor_train, target_tensor_train)).shuffle(BUFFER_SIZE)\n",
        "\n",
        "dataset = dataset.batch(BATCH_SIZE, drop_remainder=True)"
      ],
      "execution_count": 19,
      "outputs": []
    },
    {
      "cell_type": "code",
      "metadata": {
        "tags": [],
        "id": "xl8CuOzD97Cc",
        "colab_type": "code",
        "colab": {
          "base_uri": "https://localhost:8080/",
          "height": 1000
        },
        "outputId": "01d0467f-5a6f-407c-8cb7-c7ad37f83136"
      },
      "source": [
        "print(next(iter(dataset)))"
      ],
      "execution_count": 20,
      "outputs": [
        {
          "output_type": "stream",
          "text": [
            "(<tf.Tensor: shape=(64, 16), dtype=int32, numpy=\n",
            "array([[   1,    6,    7, ...,    0,    0,    0],\n",
            "       [   1,   48,   13, ...,    0,    0,    0],\n",
            "       [   1,   54,  183, ...,    0,    0,    0],\n",
            "       ...,\n",
            "       [   1,    9,  203, ...,    0,    0,    0],\n",
            "       [   1, 1689,   21, ...,    0,    0,    0],\n",
            "       [   1,   12,  154, ...,    0,    0,    0]], dtype=int32)>, <tf.Tensor: shape=(64, 11), dtype=int32, numpy=\n",
            "array([[   1,    7,    8, 2239,    3,    2,    0,    0,    0,    0,    0],\n",
            "       [   1,    4,   44,  142,  640,    3,    2,    0,    0,    0,    0],\n",
            "       [   1,    4,   24,   12,   52,   53,    3,    2,    0,    0,    0],\n",
            "       [   1,    4,   57,   15,  246, 1923,    3,    2,    0,    0,    0],\n",
            "       [   1,   14, 1625,   13,  493,    3,    2,    0,    0,    0,    0],\n",
            "       [   1,   58,   31,   52,    6,    2,    0,    0,    0,    0,    0],\n",
            "       [   1,   87, 2631,    3,    2,    0,    0,    0,    0,    0,    0],\n",
            "       [   1,    4,   44,   15,   94, 1247,    3,    2,    0,    0,    0],\n",
            "       [   1,    4,  599,    4,   26,  387,    3,    2,    0,    0,    0],\n",
            "       [   1,    4,   26,  133,  224,    3,    2,    0,    0,    0,    0],\n",
            "       [   1,    5,   23, 1064,    3,    2,    0,    0,    0,    0,    0],\n",
            "       [   1,   52,   82,   83,    3,    2,    0,    0,    0,    0,    0],\n",
            "       [   1,    4,   40,   69,  118,    3,    2,    0,    0,    0,    0],\n",
            "       [   1,    7,   96,  430,  264,    3,    2,    0,    0,    0,    0],\n",
            "       [   1,    5,   23,  500,  281,    3,    2,    0,    0,    0,    0],\n",
            "       [   1,   31,    8,  449,    3,    2,    0,    0,    0,    0,    0],\n",
            "       [   1,    4,  294,   19,    3,    2,    0,    0,    0,    0,    0],\n",
            "       [   1,    9,  808,   65,   37,    2,    0,    0,    0,    0,    0],\n",
            "       [   1,  188,   15,  402,    5,    3,    2,    0,    0,    0,    0],\n",
            "       [   1,   28,   40,    9,    3,    2,    0,    0,    0,    0,    0],\n",
            "       [   1,    5,  120,   10,  543,    3,    2,    0,    0,    0,    0],\n",
            "       [   1,    7,    8, 1523,    3,    2,    0,    0,    0,    0,    0],\n",
            "       [   1,    9,   11,  156,   10,  229,   99,    3,    2,    0,    0],\n",
            "       [   1,   14,   11,  606,   65,    3,    2,    0,    0,    0,    0],\n",
            "       [   1,   14,   11,   30,  253,    3,    2,    0,    0,    0,    0],\n",
            "       [   1,    7,   58,  430,  264,    3,    2,    0,    0,    0,    0],\n",
            "       [   1,    4,  104,   13,  519,    3,    2,    0,    0,    0,    0],\n",
            "       [   1,    4,   26,  486,   36,  155,    3,    2,    0,    0,    0],\n",
            "       [   1,   91,    5,  158,    6,    2,    0,    0,    0,    0,    0],\n",
            "       [   1,    4,   16,  196,  161,    3,    2,    0,    0,    0,    0],\n",
            "       [   1,  471,   45,   36,    3,    2,    0,    0,    0,    0,    0],\n",
            "       [   1,    4,  266,  117,   15,  318,    3,    2,    0,    0,    0],\n",
            "       [   1,    4,   16, 1600,   13,  544,    3,    2,    0,    0,    0],\n",
            "       [   1,    7, 2267,   64,  604,    3,    2,    0,    0,    0,    0],\n",
            "       [   1,   35,   60,  395,    3,    2,    0,    0,    0,    0,    0],\n",
            "       [   1,   47,   18,  110,    9,    3,    2,    0,    0,    0,    0],\n",
            "       [   1,   27,   12,  110,  364, 3047,    3,    2,    0,    0,    0],\n",
            "       [   1,    4,   16,  217,   10, 2330,    3,    2,    0,    0,    0],\n",
            "       [   1,    5,   59,   77,   15,   35,    3,    2,    0,    0,    0],\n",
            "       [   1,    4,   16,   36,   72,   82,    5,    3,    2,    0,    0],\n",
            "       [   1,    4,   43,   13, 1448,    3,    2,    0,    0,    0,    0],\n",
            "       [   1,    8,   19,   30,  109,    6,    2,    0,    0,    0,    0],\n",
            "       [   1,   17,  124, 1820,    3,    2,    0,    0,    0,    0,    0],\n",
            "       [   1,  106,  350,    3,    2,    0,    0,    0,    0,    0,    0],\n",
            "       [   1,    4,   38,  924,    7,   48,    3,    2,    0,    0,    0],\n",
            "       [   1,    5,   25,   10,  299,  373,    3,    2,    0,    0,    0],\n",
            "       [   1,    9,   11,   99,    3,    2,    0,    0,    0,    0,    0],\n",
            "       [   1,    4,   40,   19,   69,  379,    3,    2,    0,    0,    0],\n",
            "       [   1,    7,   26,  237,    3,    2,    0,    0,    0,    0,    0],\n",
            "       [   1,    7,   26,  104,    3,    2,    0,    0,    0,    0,    0],\n",
            "       [   1,    4,   26, 2479,    3,    2,    0,    0,    0,    0,    0],\n",
            "       [   1,  673,   42,   55,    3,    2,    0,    0,    0,    0,    0],\n",
            "       [   1,    4,   85,   12,   44,   15,  250,    3,    2,    0,    0],\n",
            "       [   1,    4,   77,    9,   56,  297,    3,    2,    0,    0,    0],\n",
            "       [   1,    7,  296,   42,   13, 1910,    3,    2,    0,    0,    0],\n",
            "       [   1,    4,   24,   12,  481,  117,    3,    2,    0,    0,    0],\n",
            "       [   1,    4,   27,   12, 1179,    5,    3,    2,    0,    0,    0],\n",
            "       [   1,    7,  137,  215,    3,    2,    0,    0,    0,    0,    0],\n",
            "       [   1,    7, 1950,    3,    2,    0,    0,    0,    0,    0,    0],\n",
            "       [   1,    4,   29,   10, 1272,    3,    2,    0,    0,    0,    0],\n",
            "       [   1,    4,  261,   53,    3,    2,    0,    0,    0,    0,    0],\n",
            "       [   1,   13,  251,    8,   49,  617,    3,    2,    0,    0,    0],\n",
            "       [   1,    4,  180,   10,  530,    3,    2,    0,    0,    0,    0],\n",
            "       [   1,    4,   72,  723,  377,    3,    2,    0,    0,    0,    0]],\n",
            "      dtype=int32)>)\n"
          ],
          "name": "stdout"
        }
      ]
    },
    {
      "cell_type": "code",
      "metadata": {
        "tags": [],
        "id": "qxRBhWnU97Ce",
        "colab_type": "code",
        "colab": {
          "base_uri": "https://localhost:8080/",
          "height": 51
        },
        "outputId": "040e5d0e-0d6a-4004-f5f0-fc4ad47dab65"
      },
      "source": [
        "x = tf.data.Dataset.from_tensor_slices(([1, 2, 3,4],[5,6,7,8])).shuffle(6)\n",
        "list(x.as_numpy_iterator())\n",
        "x = x.batch(3)\n",
        "list(x.as_numpy_iterator())\n",
        "# dataset = dataset.enumerate(start=5)\n",
        "# for element in dataset.as_numpy_iterator():\n",
        "#   print(element)\n"
      ],
      "execution_count": 21,
      "outputs": [
        {
          "output_type": "execute_result",
          "data": {
            "text/plain": [
              "[(array([4, 2, 3], dtype=int32), array([8, 6, 7], dtype=int32)),\n",
              " (array([1], dtype=int32), array([5], dtype=int32))]"
            ]
          },
          "metadata": {
            "tags": []
          },
          "execution_count": 21
        }
      ]
    },
    {
      "cell_type": "code",
      "metadata": {
        "tags": [],
        "id": "3yatlJDm97Ch",
        "colab_type": "code",
        "colab": {}
      },
      "source": [
        "# print(next(iter(dataset)))"
      ],
      "execution_count": null,
      "outputs": []
    },
    {
      "cell_type": "code",
      "metadata": {
        "id": "00Ryc7Xo97Cj",
        "colab_type": "code",
        "colab": {}
      },
      "source": [
        "class Encoder(tf.keras.Model):\n",
        "    def __init__(self, vocab_size, embedding_dim, enc_units, batch_size):\n",
        "        super(Encoder, self).__init__()\n",
        "        self.batch_size = batch_size\n",
        "        self.enc_units = enc_units\n",
        "        self.embedding = tf.keras.layers.Embedding(vocab_size, embedding_dim)\n",
        "        self.gru = tf.keras.layers.GRU(self.enc_units,\n",
        "        return_sequences=True,\n",
        "        return_state=True,\n",
        "        recurrent_initializer='glorot_uniform')\n",
        "\n",
        "    def call(self, x, hidden):\n",
        "        x = self.embedding(x)\n",
        "        output, state = self.gru(x, initial_state = hidden)\n",
        "        return output, state\n",
        "\n",
        "    def initialize_hidden_state(self):\n",
        "        return tf.zeros((self.batch_size, self.enc_units))"
      ],
      "execution_count": 22,
      "outputs": []
    },
    {
      "cell_type": "code",
      "metadata": {
        "id": "g53wBy_f97Cl",
        "colab_type": "code",
        "colab": {}
      },
      "source": [
        "encoder = Encoder(vocab_inp_size, embedding_dim, units, BATCH_SIZE)\n",
        "\n",
        "sample_hidden = encoder.initialize_hidden_state()"
      ],
      "execution_count": 23,
      "outputs": []
    },
    {
      "cell_type": "code",
      "metadata": {
        "id": "7QkEZ8zb97Co",
        "colab_type": "code",
        "colab": {
          "base_uri": "https://localhost:8080/",
          "height": 34
        },
        "outputId": "d92b4e84-0d83-4003-b0b5-1824ced5e7db"
      },
      "source": [
        "sample_hidden.shape"
      ],
      "execution_count": 24,
      "outputs": [
        {
          "output_type": "execute_result",
          "data": {
            "text/plain": [
              "TensorShape([64, 1024])"
            ]
          },
          "metadata": {
            "tags": []
          },
          "execution_count": 24
        }
      ]
    },
    {
      "cell_type": "code",
      "metadata": {
        "id": "D5T0vx6N97Cq",
        "colab_type": "code",
        "colab": {}
      },
      "source": [
        "example_input_batch, example_target_batch = next(iter(dataset))\n",
        "sample_output, sample_hidden = encoder(example_input_batch, sample_hidden)"
      ],
      "execution_count": 25,
      "outputs": []
    },
    {
      "cell_type": "code",
      "metadata": {
        "id": "HX7LX0S997Ct",
        "colab_type": "code",
        "colab": {
          "base_uri": "https://localhost:8080/",
          "height": 34
        },
        "outputId": "b5453b11-a7e6-49a0-81ae-db06d506f4e2"
      },
      "source": [
        "print('Encoder output shape: batch size, sequence length, units {}'.format(sample_output.shape))"
      ],
      "execution_count": 26,
      "outputs": [
        {
          "output_type": "stream",
          "text": [
            "Encoder output shape: batch size, sequence length, units (64, 16, 1024)\n"
          ],
          "name": "stdout"
        }
      ]
    },
    {
      "cell_type": "code",
      "metadata": {
        "id": "2f8Ebcuw__4D",
        "colab_type": "code",
        "colab": {
          "base_uri": "https://localhost:8080/",
          "height": 34
        },
        "outputId": "5e86359e-c08c-4575-d1c9-96b40c30629d"
      },
      "source": [
        "print('Encoder Hidden state: batch_size, units {}'.format(sample_hidden.shape))"
      ],
      "execution_count": 28,
      "outputs": [
        {
          "output_type": "stream",
          "text": [
            "Encoder Hidden state: batch_size, units (64, 1024)\n"
          ],
          "name": "stdout"
        }
      ]
    },
    {
      "cell_type": "code",
      "metadata": {
        "id": "JDbbpkRoA0hT",
        "colab_type": "code",
        "colab": {}
      },
      "source": [
        "class BahdanauAttention(tf.keras.layers.Layer):\n",
        "  def __init__(self, units):\n",
        "    super(BahdanauAttention, self).__init__()\n",
        "    self.W1 = tf.keras.layers.Dense(units)\n",
        "    self.W2 = tf.keras.layers.Dense(units)\n",
        "    self.V = tf.keras.layers.Dense(1)\n",
        "\n",
        "  def call(self, query, values):\n",
        "    query_with_time_axis = tf.expand_dims(query,1)\n",
        "\n",
        "    score = self.V(tf.nn.tanh(self.W1(query_with_time_axis) + self.W2(values)))\n",
        "\n",
        "    attention_weights = tf.nn.softmax(score, axis=1)\n",
        "\n",
        "    context_vector = attention_weights * values\n",
        "\n",
        "    context_vector = tf.reduce_sum(context_vector, axis=1)\n",
        "\n",
        "    return context_vector, attention_weights"
      ],
      "execution_count": 29,
      "outputs": []
    },
    {
      "cell_type": "code",
      "metadata": {
        "id": "ZVOzgQjJy7wj",
        "colab_type": "code",
        "colab": {
          "base_uri": "https://localhost:8080/",
          "height": 51
        },
        "outputId": "c86d272d-680a-449c-e219-0b7e89b6013a"
      },
      "source": [
        "attention_layer = BahdanauAttention(10)\n",
        "attention_result, attention_weights = attention_layer(sample_hidden, sample_output)\n",
        "\n",
        "print(\"Attention result shape: (batch_size, units) {}\".format(attention_result.shape))\n",
        "print(\"Attention weights shape: (batch_size, sequence_lengths) {}\".format(attention_weights.shape))"
      ],
      "execution_count": 30,
      "outputs": [
        {
          "output_type": "stream",
          "text": [
            "Attention result shape: (batch_size, units) (64, 1024)\n",
            "Attention weights shape: (batch_size, sequence_lengths) (64, 16, 1)\n"
          ],
          "name": "stdout"
        }
      ]
    },
    {
      "cell_type": "code",
      "metadata": {
        "id": "YoHvgYDmU_S_",
        "colab_type": "code",
        "colab": {}
      },
      "source": [
        "class Decoder(tf.keras.Model):\n",
        "  def __init__(self, vocab_size, embedding_dim, dec_units, batch_size):\n",
        "    super(Decoder, self).__init__()\n",
        "    self.batch_size = batch_size\n",
        "    self.dec_units = dec_units\n",
        "    self.embedding = tf.keras.layers.Embedding(vocab_size, embedding_dim)\n",
        "    self.gru = tf.keras.layers.GRU(self.dec_units,\n",
        "                                   return_sequences=True,\n",
        "                                   return_state=True,\n",
        "                                   recurrent_initializer = 'glorot_uniform')\n",
        "    \n",
        "    self.fc = tf.keras.layers.Dense(vocab_size)\n",
        "\n",
        "    self.attention = BahdanauAttention(self.dec_units)\n",
        "\n",
        "  def call(self, x, hidden, enc_output):\n",
        "    context_vector, attention_weights = self.attention(hidden, enc_output)\n",
        "\n",
        "    x = self.embedding(x)\n",
        "    x = tf.concat([tf.expand_dims(context_vector,1), x], axis=-1)\n",
        "    output, state = self.gru(x)\n",
        "\n",
        "    output = tf.reshape(output, (-1, output.shape[2]))\n",
        "\n",
        "    x = self.fc(output)\n",
        "\n",
        "    return x, state, attention_weights"
      ],
      "execution_count": 32,
      "outputs": []
    },
    {
      "cell_type": "code",
      "metadata": {
        "id": "KBVyEPtSicdB",
        "colab_type": "code",
        "colab": {
          "base_uri": "https://localhost:8080/",
          "height": 34
        },
        "outputId": "1adb0d98-3217-48f5-fc93-3db34729859c"
      },
      "source": [
        "decoder = Decoder(vocab_tar_size, embedding_dim, units, BATCH_SIZE)\n",
        "\n",
        "sample_decoder_output, _, _ = decoder(tf.random.uniform((BATCH_SIZE, 1)), sample_hidden, sample_output)\n",
        "\n",
        "print('decoder output shape: (batch_size, vocab_size) {}'.format(sample_decoder_output.shape))\n"
      ],
      "execution_count": 33,
      "outputs": [
        {
          "output_type": "stream",
          "text": [
            "decoder output shape: (batch_size, vocab_size) (64, 4817)\n"
          ],
          "name": "stdout"
        }
      ]
    },
    {
      "cell_type": "code",
      "metadata": {
        "id": "fd_T4QZDlwb_",
        "colab_type": "code",
        "colab": {}
      },
      "source": [
        "optimizer = tf.keras.optimizers.Adam()\n",
        "loss_object = tf.keras.losses.SparseCategoricalCrossentropy(from_logits=True, reduction='none')\n",
        "\n",
        "def loss_function(real, pred):\n",
        "  mask = tf.math.logical_not(tf.math.equal(real,0))\n",
        "  loss_ = loss_object(real, pred)\n",
        "\n",
        "  mask = tf.cast(mask, dtype=loss_.dtype)\n",
        "  loss_ *= mask\n",
        "\n",
        "  return tf.reduce_mean(loss_)"
      ],
      "execution_count": 34,
      "outputs": []
    },
    {
      "cell_type": "code",
      "metadata": {
        "id": "L53OV8g1fwsk",
        "colab_type": "code",
        "colab": {}
      },
      "source": [
        "checkpoint_dir = os.path.abspath('.')+\"/drive/My Drive/training_checkpoints\"\n",
        "checkpoint_prefix = os.path.join(checkpoint_dir, 'ckpt')\n",
        "checkpoint = tf.train.Checkpoint(optimizer=optimizer, encoder=encoder, decoder=decoder)"
      ],
      "execution_count": 36,
      "outputs": []
    },
    {
      "cell_type": "code",
      "metadata": {
        "id": "9pKQdiIyiYtO",
        "colab_type": "code",
        "colab": {
          "base_uri": "https://localhost:8080/",
          "height": 180
        },
        "outputId": "aaaf2f1b-51e7-4200-8354-79b7d61ad037"
      },
      "source": [
        "targ_lang_tok.word_index['<start>']"
      ],
      "execution_count": 40,
      "outputs": [
        {
          "output_type": "error",
          "ename": "NameError",
          "evalue": "ignored",
          "traceback": [
            "\u001b[0;31m---------------------------------------------------------------------------\u001b[0m",
            "\u001b[0;31mNameError\u001b[0m                                 Traceback (most recent call last)",
            "\u001b[0;32m<ipython-input-40-4f62cc8eec92>\u001b[0m in \u001b[0;36m<module>\u001b[0;34m()\u001b[0m\n\u001b[1;32m      1\u001b[0m \u001b[0mtarg_lang_tok\u001b[0m\u001b[0;34m.\u001b[0m\u001b[0mword_index\u001b[0m\u001b[0;34m[\u001b[0m\u001b[0;34m'<start>'\u001b[0m\u001b[0;34m]\u001b[0m\u001b[0;34m\u001b[0m\u001b[0;34m\u001b[0m\u001b[0m\n\u001b[0;32m----> 2\u001b[0;31m \u001b[0mtarg\u001b[0m\u001b[0;34m.\u001b[0m\u001b[0mshape\u001b[0m\u001b[0;34m[\u001b[0m\u001b[0;36m1\u001b[0m\u001b[0;34m]\u001b[0m\u001b[0;34m\u001b[0m\u001b[0;34m\u001b[0m\u001b[0m\n\u001b[0m",
            "\u001b[0;31mNameError\u001b[0m: name 'targ' is not defined"
          ]
        }
      ]
    },
    {
      "cell_type": "code",
      "metadata": {
        "id": "0PnZz_yohOWg",
        "colab_type": "code",
        "colab": {}
      },
      "source": [
        "@tf.function\n",
        "def train_step(inp, targ, enc_hidden):\n",
        "  loss=0\n",
        "\n",
        "  with tf.GradientTape() as tape:\n",
        "\n",
        "    enc_output, enc_hidden = encoder(inp, enc_hidden)\n",
        "    dec_hidden = enc_hidden\n",
        "    dec_input = tf.expand_dims([targ_lang_tok.word_index['<start>']] * BATCH_SIZE, 1)\n",
        "\n",
        "    for t in range(1, targ.shape[1]):\n",
        "      predictions, dec_hidden, _ = decoder(dec_input, dec_hidden, enc_output)\n",
        "\n",
        "      loss += loss_function(targ[:, t], predictions)\n",
        "      dec_input = tf.expand_dims(targ[:, t], 1)\n",
        "\n",
        "    batch_loss = (loss/ int(targ.shape[1]))\n",
        "    variables = encoder.trainable_variables + decoder.trainable_variables\n",
        "    gradients = tape.gradient(loss, variables)\n",
        "    optimizer.apply_gradients(zip(gradients, variables))\n",
        "    return batch_loss\n",
        "\n"
      ],
      "execution_count": 44,
      "outputs": []
    },
    {
      "cell_type": "code",
      "metadata": {
        "id": "zyHCeJgAlVN7",
        "colab_type": "code",
        "colab": {
          "base_uri": "https://localhost:8080/",
          "height": 1000
        },
        "outputId": "41aaead7-0392-48be-9000-073298e577e7"
      },
      "source": [
        "for (batch, (inp, targ)) in enumerate(dataset.take(steps_per_epoch)):\n",
        "  print(batch)\n",
        "  print(inp)\n",
        "  print(targ)\n",
        "  break"
      ],
      "execution_count": 45,
      "outputs": [
        {
          "output_type": "stream",
          "text": [
            "0\n",
            "tf.Tensor(\n",
            "[[   1  325   10 ...    0    0    0]\n",
            " [   1    9    7 ...    0    0    0]\n",
            " [   1    9   16 ...    0    0    0]\n",
            " ...\n",
            " [   1    5    7 ...    0    0    0]\n",
            " [   1   60 1365 ...    0    0    0]\n",
            " [   1   27 8012 ...    0    0    0]], shape=(64, 16), dtype=int32)\n",
            "tf.Tensor(\n",
            "[[   1   35   90   15   30  376    3    2    0    0    0]\n",
            " [   1   14    8 1427  208 4694    3    2    0    0    0]\n",
            " [   1   14   11  458   53    3    2    0    0    0    0]\n",
            " [   1   74  593  124   18    3    2    0    0    0    0]\n",
            " [   1   20 4532   93   12 3099    3    2    0    0    0]\n",
            " [   1    4   66  347  556    3    2    0    0    0    0]\n",
            " [   1   32 3119    5   39    6    2    0    0    0    0]\n",
            " [   1    7 1475   46    3    2    0    0    0    0    0]\n",
            " [   1    9   11   81 1556    3    2    0    0    0    0]\n",
            " [   1   21 1834    8  692    3    2    0    0    0    0]\n",
            " [   1    7    8   10 3597    3    2    0    0    0    0]\n",
            " [   1   13 1386  135  153    3    2    0    0    0    0]\n",
            " [   1   68    5   63  369    3    2    0    0    0    0]\n",
            " [   1  372  627  100    6    2    0    0    0    0    0]\n",
            " [   1    8   19  133    7    6    2    0    0    0    0]\n",
            " [   1  311  122    9   50  248    6    2    0    0    0]\n",
            " [   1    4  231    5  174   60    9    3    2    0    0]\n",
            " [   1    5   59  214    9   37    2    0    0    0    0]\n",
            " [   1   20    8   65  370    3    2    0    0    0    0]\n",
            " [   1  201  135  182    3    2    0    0    0    0    0]\n",
            " [   1    4   38  116   92   48    3    2    0    0    0]\n",
            " [   1    4   16  104    3    2    0    0    0    0    0]\n",
            " [   1   32   40    7   22    6    2    0    0    0    0]\n",
            " [   1    4   16  787  383   53    3    2    0    0    0]\n",
            " [   1    4   16   71 3147   99    3    2    0    0    0]\n",
            " [   1   14  385   19    3    2    0    0    0    0    0]\n",
            " [   1    7  230   36 1870    3    2    0    0    0    0]\n",
            " [   1    7   58   10 4544    3    2    0    0    0    0]\n",
            " [   1    4   44   19   80    3    2    0    0    0    0]\n",
            " [   1    9  309  377  119    3    2    0    0    0    0]\n",
            " [   1    4   16   10   65  366    3    2    0    0    0]\n",
            " [   1   25    5  444    6    2    0    0    0    0    0]\n",
            " [   1    4   76 3339    3    2    0    0    0    0    0]\n",
            " [   1    7  448    3    2    0    0    0    0    0    0]\n",
            " [   1   67   76    5   35    6    2    0    0    0    0]\n",
            " [   1   19    8   33   21  815    3    2    0    0    0]\n",
            " [   1    4   16    7   11  750    3    2    0    0    0]\n",
            " [   1   97    4  110   20   42    6    2    0    0    0]\n",
            " [   1   20    8   13 2310    3    2    0    0    0    0]\n",
            " [   1   20  168    8 3102    3    2    0    0    0    0]\n",
            " [   1    7 3978   64 1496    3    2    0    0    0    0]\n",
            " [   1    9   11   33   10  362    3    2    0    0    0]\n",
            " [   1    4   16   10  469    3    2    0    0    0    0]\n",
            " [   1    4   16   33 1182    3    2    0    0    0    0]\n",
            " [   1   66    4 3303    6    2    0    0    0    0    0]\n",
            " [   1    4  150  274    3    2    0    0    0    0    0]\n",
            " [   1    9   11   42   13  162    3    2    0    0    0]\n",
            " [   1    7  643   36   13   84    3    2    0    0    0]\n",
            " [   1  372   80    8  410    6    2    0    0    0    0]\n",
            " [   1    5  108   87   45    3    2    0    0    0    0]\n",
            " [   1    4   43   13  472    3    2    0    0    0    0]\n",
            " [   1    4   85   12   68    9    3    2    0    0    0]\n",
            " [   1   14  395   64  527    3    2    0    0    0    0]\n",
            " [   1    7 4276   46  121    3    2    0    0    0    0]\n",
            " [   1    4   16  224   37    2    0    0    0    0    0]\n",
            " [   1    4   43   20  424    3    2    0    0    0    0]\n",
            " [   1  106  449   37    2    0    0    0    0    0    0]\n",
            " [   1   67   76   17  402    6    2    0    0    0    0]\n",
            " [   1   32  129    4   22    6    2    0    0    0    0]\n",
            " [   1    4  598   21 2597    3    2    0    0    0    0]\n",
            " [   1    9   11   21  131    3    2    0    0    0    0]\n",
            " [   1    8    9   10  210  541   10  355    6    2    0]\n",
            " [   1   28   23  679    3    2    0    0    0    0    0]\n",
            " [   1   19 3007   10  149    3    2    0    0    0    0]], shape=(64, 11), dtype=int32)\n"
          ],
          "name": "stdout"
        }
      ]
    },
    {
      "cell_type": "code",
      "metadata": {
        "id": "Dqr__cDhkze0",
        "colab_type": "code",
        "colab": {
          "base_uri": "https://localhost:8080/",
          "height": 1000
        },
        "outputId": "96a7bbb7-3105-4d05-9fed-ec5ad5f03c5c"
      },
      "source": [
        "EPOCHS = 10\n",
        "\n",
        "for epoch in range(EPOCHS):\n",
        "  start = time.time()\n",
        "  enc_hidden = encoder.initialize_hidden_state()\n",
        "  total_loss = 0\n",
        "\n",
        "  for (batch, (inp, targ)) in enumerate(dataset.take(steps_per_epoch)):\n",
        "    batch_loss = train_step(inp, targ, enc_hidden)\n",
        "    total_loss += batch_loss\n",
        "\n",
        "    if batch % 100 == 0:\n",
        "      print('Epoch {} Batch {} Loss {:.4f}'.format(epoch+1, batch, batch_loss.numpy()))\n",
        "\n",
        "  if (epoch + 1) % 2 ==0:\n",
        "    checkpoint.save(file_prefix= checkpoint_prefix)\n",
        "  \n",
        "  print('Epoch {}, Loss {}'.format(epoch+1, total_loss/steps_per_epoch))\n",
        "\n",
        "  print('Time taken for 1 epoch {} sec \\n'.format(time.time() - start))"
      ],
      "execution_count": 46,
      "outputs": [
        {
          "output_type": "stream",
          "text": [
            "Epoch 1 Batch 0 Loss 4.4089\n",
            "Epoch 1 Batch 100 Loss 2.1233\n",
            "Epoch 1 Batch 200 Loss 1.8076\n",
            "Epoch 1 Batch 300 Loss 1.6243\n",
            "Epoch 1, Loss 2.010434150695801\n",
            "Time taken for 1 epoch 43.3237361907959 sec \n",
            "\n",
            "Epoch 2 Batch 0 Loss 1.5292\n",
            "Epoch 2 Batch 100 Loss 1.4762\n",
            "Epoch 2 Batch 200 Loss 1.3745\n",
            "Epoch 2 Batch 300 Loss 1.2801\n",
            "Epoch 2, Loss 1.350333571434021\n",
            "Time taken for 1 epoch 32.97252702713013 sec \n",
            "\n",
            "Epoch 3 Batch 0 Loss 1.0744\n",
            "Epoch 3 Batch 100 Loss 0.9748\n",
            "Epoch 3 Batch 200 Loss 0.8279\n",
            "Epoch 3 Batch 300 Loss 0.8952\n",
            "Epoch 3, Loss 0.9298057556152344\n",
            "Time taken for 1 epoch 32.10030651092529 sec \n",
            "\n",
            "Epoch 4 Batch 0 Loss 0.6432\n",
            "Epoch 4 Batch 100 Loss 0.6000\n",
            "Epoch 4 Batch 200 Loss 0.5846\n",
            "Epoch 4 Batch 300 Loss 0.6167\n",
            "Epoch 4, Loss 0.6250849962234497\n",
            "Time taken for 1 epoch 33.39562177658081 sec \n",
            "\n",
            "Epoch 5 Batch 0 Loss 0.4089\n",
            "Epoch 5 Batch 100 Loss 0.4123\n",
            "Epoch 5 Batch 200 Loss 0.3813\n",
            "Epoch 5 Batch 300 Loss 0.3902\n",
            "Epoch 5, Loss 0.4226386845111847\n",
            "Time taken for 1 epoch 31.902763605117798 sec \n",
            "\n",
            "Epoch 6 Batch 0 Loss 0.2716\n",
            "Epoch 6 Batch 100 Loss 0.2458\n",
            "Epoch 6 Batch 200 Loss 0.3016\n",
            "Epoch 6 Batch 300 Loss 0.3043\n",
            "Epoch 6, Loss 0.2937929928302765\n",
            "Time taken for 1 epoch 32.770418882369995 sec \n",
            "\n",
            "Epoch 7 Batch 0 Loss 0.2920\n",
            "Epoch 7 Batch 100 Loss 0.1949\n",
            "Epoch 7 Batch 200 Loss 0.2242\n",
            "Epoch 7 Batch 300 Loss 0.2655\n",
            "Epoch 7, Loss 0.20901694893836975\n",
            "Time taken for 1 epoch 31.969480276107788 sec \n",
            "\n",
            "Epoch 8 Batch 0 Loss 0.1183\n",
            "Epoch 8 Batch 100 Loss 0.1617\n",
            "Epoch 8 Batch 200 Loss 0.1565\n",
            "Epoch 8 Batch 300 Loss 0.1857\n",
            "Epoch 8, Loss 0.15616463124752045\n",
            "Time taken for 1 epoch 33.16887617111206 sec \n",
            "\n",
            "Epoch 9 Batch 0 Loss 0.1289\n",
            "Epoch 9 Batch 100 Loss 0.0765\n",
            "Epoch 9 Batch 200 Loss 0.1537\n",
            "Epoch 9 Batch 300 Loss 0.1237\n",
            "Epoch 9, Loss 0.12090999633073807\n",
            "Time taken for 1 epoch 31.87824273109436 sec \n",
            "\n",
            "Epoch 10 Batch 0 Loss 0.0755\n",
            "Epoch 10 Batch 100 Loss 0.0848\n",
            "Epoch 10 Batch 200 Loss 0.0794\n",
            "Epoch 10 Batch 300 Loss 0.1054\n",
            "Epoch 10, Loss 0.10035225749015808\n",
            "Time taken for 1 epoch 32.81871008872986 sec \n",
            "\n"
          ],
          "name": "stdout"
        }
      ]
    },
    {
      "cell_type": "code",
      "metadata": {
        "id": "6eZ0GJXnmzRK",
        "colab_type": "code",
        "colab": {}
      },
      "source": [
        ""
      ],
      "execution_count": null,
      "outputs": []
    }
  ]
}