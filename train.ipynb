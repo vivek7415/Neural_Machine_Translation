{
  "nbformat": 4,
  "nbformat_minor": 0,
  "metadata": {
    "language_info": {
      "codemirror_mode": {
        "name": "ipython",
        "version": 3
      },
      "file_extension": ".py",
      "mimetype": "text/x-python",
      "name": "python",
      "nbconvert_exporter": "python",
      "pygments_lexer": "ipython3",
      "version": "3.7.7-final"
    },
    "orig_nbformat": 2,
    "kernelspec": {
      "name": "python3",
      "display_name": "Python 3"
    },
    "colab": {
      "name": "train.ipynb",
      "provenance": []
    },
    "accelerator": "GPU"
  },
  "cells": [
    {
      "cell_type": "code",
      "metadata": {
        "id": "xXvlB7Pu97B6",
        "colab_type": "code",
        "colab": {}
      },
      "source": [
        "import numpy as numpy\n",
        "import pandas as pd\n",
        "import tensorflow as tf\n",
        "import matplotlib.pyplot as plt\n",
        "import matplotlib.ticker as ticker\n",
        "from sklearn.model_selection import train_test_split\n",
        "import re\n",
        "import os\n",
        "import io\n",
        "import time\n",
        "import unicodedata\n"
      ],
      "execution_count": 1,
      "outputs": []
    },
    {
      "cell_type": "code",
      "metadata": {
        "id": "oAi5Frlm97B_",
        "colab_type": "code",
        "colab": {}
      },
      "source": [
        "def unicode_to_ascii(s):\n",
        "  return ''.join(c for c in unicodedata.normalize('NFD', s)\n",
        "      if unicodedata.category(c) != 'Mn')\n",
        "\n",
        "def preprocess_sentence(w):\n",
        "  w = unicode_to_ascii(w.lower().strip())\n",
        "  w = re.sub(r\"([?.!,¿])\", r\" \\1 \", w)\n",
        "  w = re.sub(r'[\" \"]+', \" \", w)\n",
        "  w = re.sub(r\"[^a-zA-Z?.!,¿]+\", \" \", w)\n",
        "  w = w.strip()\n",
        "  w = '<start> ' + w + ' <end>'\n",
        "  return w"
      ],
      "execution_count": 2,
      "outputs": []
    },
    {
      "cell_type": "code",
      "metadata": {
        "id": "VV5DJMDA97CB",
        "colab_type": "code",
        "colab": {}
      },
      "source": [
        "def create_dataset(path, num_examples):\n",
        "  lines = io.open(path, encoding='UTF-8').read().strip().split('\\n')\n",
        "\n",
        "  word_pairs = [[preprocess_sentence(w) for w in l.split('\\t')]  for l in lines[:num_examples]]\n",
        "\n",
        "  return zip(*word_pairs)"
      ],
      "execution_count": 3,
      "outputs": []
    },
    {
      "cell_type": "code",
      "metadata": {
        "id": "ZiAlnWqZ97CE",
        "colab_type": "code",
        "colab": {}
      },
      "source": [
        "# path = os.path.abspath('.')+'/spa-eng/spa.txt'"
      ],
      "execution_count": 6,
      "outputs": []
    },
    {
      "cell_type": "code",
      "metadata": {
        "id": "H0CdLWn--p84",
        "colab_type": "code",
        "colab": {}
      },
      "source": [
        "path = '/content/spa.txt'"
      ],
      "execution_count": 12,
      "outputs": []
    },
    {
      "cell_type": "code",
      "metadata": {
        "tags": [],
        "id": "Jz_2SfwJ97CG",
        "colab_type": "code",
        "colab": {
          "base_uri": "https://localhost:8080/",
          "height": 71
        },
        "outputId": "3ab96747-7586-4c36-c29a-24905cf35328"
      },
      "source": [
        "en, sp, _= create_dataset(path, None)\n",
        "print(en[-1])\n",
        "print(sp[-1])"
      ],
      "execution_count": 14,
      "outputs": [
        {
          "output_type": "stream",
          "text": [
            "<start> if you want to sound like a native speaker , you must be willing to practice saying the same sentence over and over in the same way that banjo players practice the same phrase over and over until they can play it correctly and at the desired tempo . <end>\n",
            "<start> si quieres sonar como un hablante nativo , debes estar dispuesto a practicar diciendo la misma frase una y otra vez de la misma manera en que un musico de banjo practica el mismo fraseo una y otra vez hasta que lo puedan tocar correctamente y en el tiempo esperado . <end>\n"
          ],
          "name": "stdout"
        }
      ]
    },
    {
      "cell_type": "code",
      "metadata": {
        "id": "7pnpLvcCBJNA",
        "colab_type": "code",
        "colab": {
          "base_uri": "https://localhost:8080/",
          "height": 34
        },
        "outputId": "61e3dea9-9a29-4f5d-acd3-fc914dffaa53"
      },
      "source": [
        "len(en)"
      ],
      "execution_count": 34,
      "outputs": [
        {
          "output_type": "execute_result",
          "data": {
            "text/plain": [
              "124325"
            ]
          },
          "metadata": {
            "tags": []
          },
          "execution_count": 34
        }
      ]
    },
    {
      "cell_type": "code",
      "metadata": {
        "id": "X_gYU2P-97CJ",
        "colab_type": "code",
        "colab": {}
      },
      "source": [
        "def tokenize(lang):\n",
        "  lang_tokenizer = tf.keras.preprocessing.text.Tokenizer(\n",
        "      filters='')\n",
        "  lang_tokenizer.fit_on_texts(lang)\n",
        "\n",
        "  tensor = lang_tokenizer.texts_to_sequences(lang)\n",
        "\n",
        "  tensor = tf.keras.preprocessing.sequence.pad_sequences(tensor,\n",
        "                                                         padding='post')\n",
        "\n",
        "  return tensor, lang_tokenizer"
      ],
      "execution_count": 15,
      "outputs": []
    },
    {
      "cell_type": "code",
      "metadata": {
        "id": "BvTZInjo97CL",
        "colab_type": "code",
        "colab": {}
      },
      "source": [
        "def load_dataset(path, num_examples=None):\n",
        "  # creating cleaned input, output pairs\n",
        "  targ_lang, inp_lang, _ = create_dataset(path, num_examples)\n",
        "\n",
        "  input_tensor, inp_lang_tokenizer = tokenize(inp_lang)\n",
        "  target_tensor, targ_lang_tokenizer = tokenize(targ_lang)\n",
        "\n",
        "  return input_tensor, target_tensor, inp_lang_tokenizer, targ_lang_tokenizer"
      ],
      "execution_count": 16,
      "outputs": []
    },
    {
      "cell_type": "code",
      "metadata": {
        "id": "2u4NtaFC97CN",
        "colab_type": "code",
        "colab": {}
      },
      "source": [
        "num_examples = 30000\n",
        "input_tensor, target_tensor, inp_lang_tok, targ_lang_tok = load_dataset(path, num_examples)\n",
        "max_length_targ, max_length_inp = target_tensor.shape[1], input_tensor.shape[1]"
      ],
      "execution_count": 17,
      "outputs": []
    },
    {
      "cell_type": "code",
      "metadata": {
        "tags": [],
        "id": "HaUdvP5o97CQ",
        "colab_type": "code",
        "colab": {
          "base_uri": "https://localhost:8080/",
          "height": 34
        },
        "outputId": "9dd972f8-4dda-4608-8bbe-9954c07270ff"
      },
      "source": [
        "input_tensor_train, input_tensor_val, target_tensor_train, target_tensor_val = train_test_split(input_tensor, target_tensor, test_size=0.2)\n",
        "\n",
        "print(len(input_tensor_train), len(target_tensor_train), len(input_tensor_val), len(target_tensor_val))\n"
      ],
      "execution_count": 18,
      "outputs": [
        {
          "output_type": "stream",
          "text": [
            "24000 24000 6000 6000\n"
          ],
          "name": "stdout"
        }
      ]
    },
    {
      "cell_type": "code",
      "metadata": {
        "id": "0ZkU8Ym297CS",
        "colab_type": "code",
        "colab": {}
      },
      "source": [
        "def convert(lang, tensor):\n",
        "  for t in tensor:\n",
        "    if t!=0:\n",
        "      print (\"%d ----> %s\" % (t, lang.index_word[t]))"
      ],
      "execution_count": 19,
      "outputs": []
    },
    {
      "cell_type": "code",
      "metadata": {
        "tags": [],
        "id": "Sg1JHMkI97CU",
        "colab_type": "code",
        "colab": {
          "base_uri": "https://localhost:8080/",
          "height": 323
        },
        "outputId": "f4de286e-d029-4898-9f06-eb66ba975a5e"
      },
      "source": [
        "print (\"Input Language; index to word mapping\")\n",
        "convert(inp_lang_tok, input_tensor_train[0])\n",
        "print ()\n",
        "print (\"Target Language; index to word mapping\")\n",
        "convert(targ_lang_tok, target_tensor_train[0])"
      ],
      "execution_count": 20,
      "outputs": [
        {
          "output_type": "stream",
          "text": [
            "Input Language; index to word mapping\n",
            "1 ----> <start>\n",
            "2040 ----> merece\n",
            "14 ----> la\n",
            "863 ----> pena\n",
            "857 ----> intentarlo\n",
            "3 ----> .\n",
            "2 ----> <end>\n",
            "\n",
            "Target Language; index to word mapping\n",
            "1 ----> <start>\n",
            "9 ----> it\n",
            "11 ----> s\n",
            "852 ----> worth\n",
            "10 ----> a\n",
            "110 ----> try\n",
            "3 ----> .\n",
            "2 ----> <end>\n"
          ],
          "name": "stdout"
        }
      ]
    },
    {
      "cell_type": "code",
      "metadata": {
        "id": "4vaU7uUx97CX",
        "colab_type": "code",
        "colab": {
          "base_uri": "https://localhost:8080/",
          "height": 34
        },
        "outputId": "92386af0-82e4-424b-d390-2edb7434a288"
      },
      "source": [
        "target_tensor.shape"
      ],
      "execution_count": 21,
      "outputs": [
        {
          "output_type": "execute_result",
          "data": {
            "text/plain": [
              "(30000, 11)"
            ]
          },
          "metadata": {
            "tags": []
          },
          "execution_count": 21
        }
      ]
    },
    {
      "cell_type": "code",
      "metadata": {
        "id": "P8Vv5Yj597CZ",
        "colab_type": "code",
        "colab": {}
      },
      "source": [
        "BUFFER_SIZE = len(input_tensor_train)\n",
        "BATCH_SIZE = 64\n",
        "steps_per_epoch = len(input_tensor_train)//BATCH_SIZE\n",
        "embedding_dim = 256\n",
        "units = 1024\n",
        "vocab_inp_size = len(inp_lang_tok.word_index) + 1\n",
        "vocab_tar_size = len(targ_lang_tok.word_index)+ 1\n",
        "\n",
        "dataset = tf.data.Dataset.from_tensor_slices((input_tensor_train, target_tensor_train)).shuffle(BUFFER_SIZE)\n",
        "\n",
        "dataset = dataset.batch(BATCH_SIZE, drop_remainder=True)"
      ],
      "execution_count": 22,
      "outputs": []
    },
    {
      "cell_type": "code",
      "metadata": {
        "tags": [],
        "id": "xl8CuOzD97Cc",
        "colab_type": "code",
        "colab": {},
        "outputId": "28a416f1-9939-48c2-ab20-296c2a83b652"
      },
      "source": [
        "print(next(iter(dataset)))"
      ],
      "execution_count": null,
      "outputs": [
        {
          "output_type": "stream",
          "text": [
            "(<tf.Tensor: shape=(64, 16), dtype=int32, numpy=\n",
            "array([[   1, 3391,   33, ...,    0,    0,    0],\n",
            "       [   1,   32, 2423, ...,    0,    0,    0],\n",
            "       [   1,   29, 1726, ...,    0,    0,    0],\n",
            "       ...,\n",
            "       [   1,   36,  106, ...,    0,    0,    0],\n",
            "       [   1,  590,   10, ...,    0,    0,    0],\n",
            "       [   1,  131,   75, ...,    0,    0,    0]])>, <tf.Tensor: shape=(64, 11), dtype=int32, numpy=\n",
            "array([[   1,  546,   48,   50,    7,    3,    2,    0,    0,    0,    0],\n",
            "       [   1, 1389,   29,  395,    3,    2,    0,    0,    0,    0,    0],\n",
            "       [   1,    4, 1228,    7,  152,    3,    2,    0,    0,    0,    0],\n",
            "       [   1,    4,   16, 3703,    3,    2,    0,    0,    0,    0,    0],\n",
            "       [   1,    4,   44,  193,    3,    2,    0,    0,    0,    0,    0],\n",
            "       [   1,   39,   50,  202,   20,    3,    2,    0,    0,    0,    0],\n",
            "       [   1,    4,   16,   30,  712,    3,    2,    0,    0,    0,    0],\n",
            "       [   1,   28,   40,    9,    3,    2,    0,    0,    0,    0,    0],\n",
            "       [   1,    4,  448,  528,    3,    2,    0,    0,    0,    0,    0],\n",
            "       [   1,  311,    4,  183,   19,    3,    2,    0,    0,    0,    0],\n",
            "       [   1,  493,   30, 1010,    3,    2,    0,    0,    0,    0,    0],\n",
            "       [   1,    4, 1459,    5,    3,    2,    0,    0,    0,    0,    0],\n",
            "       [   1,   21,  328,   25,  587,    3,    2,    0,    0,    0,    0],\n",
            "       [   1,  273,  114,   82,   18,    3,    2,    0,    0,    0,    0],\n",
            "       [   1,   27,   12,  134,  421,  301,    3,    2,    0,    0,    0],\n",
            "       [   1,   47,   18, 2709,    9,    3,    2,    0,    0,    0,    0],\n",
            "       [   1, 1633,   48,   19, 1863,    3,    2,    0,    0,    0,    0],\n",
            "       [   1,   17,   24,  402,    3,    2,    0,    0,    0,    0,    0],\n",
            "       [   1,  225,  231,    3,    2,    0,    0,    0,    0,    0,    0],\n",
            "       [   1,   27,   12,  348,    3,    2,    0,    0,    0,    0,    0],\n",
            "       [   1,    4,   16,   33,    7,   11,  447,    3,    2,    0,    0],\n",
            "       [   1,   28,  108,   41,  101,    3,    2,    0,    0,    0,    0],\n",
            "       [   1,   88,   63,    9,    3,    2,    0,    0,    0,    0,    0],\n",
            "       [   1,   17,  442,    7,    3,    2,    0,    0,    0,    0,    0],\n",
            "       [   1,   14,  130,  121,    3,    2,    0,    0,    0,    0,    0],\n",
            "       [   1,   14,    8,   10,  547,  169,    3,    2,    0,    0,    0],\n",
            "       [   1,    4,   44,   15,  107,  119,    3,    2,    0,    0,    0],\n",
            "       [   1,    5,   24,  144,    9,   55,    3,    2,    0,    0,    0],\n",
            "       [   1,    4,   16,  181,   82,   74,    3,    2,    0,    0,    0],\n",
            "       [   1,    4,   38,  103,   39,    3,    2,    0,    0,    0,    0],\n",
            "       [   1,    4,  108,   29, 2256,    9,    3,    2,    0,    0,    0],\n",
            "       [   1,    9,  834,   56, 1069,    3,    2,    0,    0,    0,    0],\n",
            "       [   1,    4,   66,  975,    3,    2,    0,    0,    0,    0,    0],\n",
            "       [   1,    4,   44,  117,    3,    2,    0,    0,    0,    0,    0],\n",
            "       [   1,    5,   24,   12,  481,   45,    3,    2,    0,    0,    0],\n",
            "       [   1,  372,    8,  193,    6,    2,    0,    0,    0,    0,    0],\n",
            "       [   1,    5,   23,   79, 1102,    3,    2,    0,    0,    0,    0],\n",
            "       [   1,    9,  133,  303,    3,    2,    0,    0,    0,    0,    0],\n",
            "       [   1,    4,   95,   19,    3,    2,    0,    0,    0,    0,    0],\n",
            "       [   1,   24,    5,  127,   45,    6,    2,    0,    0,    0,    0],\n",
            "       [   1,   97,    4,  128,  201,    6,    2,    0,    0,    0,    0],\n",
            "       [   1,   32,   11,   20,    6,    2,    0,    0,    0,    0,    0],\n",
            "       [   1,    5,   25, 2344,    3,    2,    0,    0,    0,    0,    0],\n",
            "       [   1,   40,    5,  621,    6,    2,    0,    0,    0,    0,    0],\n",
            "       [   1,    4,  249,   30, 4375,    3,    2,    0,    0,    0,    0],\n",
            "       [   1,    7,    8,   21, 1056,    3,    2,    0,    0,    0,    0],\n",
            "       [   1,  471,    9,  208, 2628,    3,    2,    0,    0,    0,    0],\n",
            "       [   1,    7,   11,  105,  299,   46,    3,    2,    0,    0,    0],\n",
            "       [   1,    4, 1601,   13,   73,    3,    2,    0,    0,    0,    0],\n",
            "       [   1,    9,   26,   10,  136,  476,    3,    2,    0,    0,    0],\n",
            "       [   1,   14,  130, 3316,    3,    2,    0,    0,    0,    0,    0],\n",
            "       [   1,    5,   25,   65,    3,    2,    0,    0,    0,    0,    0],\n",
            "       [   1,   17,   38,  263,    5,    3,    2,    0,    0,    0,    0],\n",
            "       [   1,   14, 3311,   18,    3,    2,    0,    0,    0,    0,    0],\n",
            "       [   1,    8,    9,  199,    6,    2,    0,    0,    0,    0,    0],\n",
            "       [   1,   62,   35,    3,    2,    0,    0,    0,    0,    0,    0],\n",
            "       [   1,   51,   22,    4,  581,   19,    6,    2,    0,    0,    0],\n",
            "       [   1,  791,    8,   10,  949,  731,    3,    2,    0,    0,    0],\n",
            "       [   1,   17,   59,  156,  606,    3,    2,    0,    0,    0,    0],\n",
            "       [   1,    4,   76,  112,   63,   89,    3,    2,    0,    0,    0],\n",
            "       [   1,    4,   16,  113,   15,  828,    3,    2,    0,    0,    0],\n",
            "       [   1,    4,   16,  157,   39,    3,    2,    0,    0,    0,    0],\n",
            "       [   1,    4,   38,   35,   15,  234,    3,    2,    0,    0,    0],\n",
            "       [   1,    4,   95,   13,  105,    3,    2,    0,    0,    0,    0]])>)\n"
          ],
          "name": "stdout"
        }
      ]
    },
    {
      "cell_type": "code",
      "metadata": {
        "tags": [],
        "id": "qxRBhWnU97Ce",
        "colab_type": "code",
        "colab": {},
        "outputId": "a79ba1b0-841a-4267-db00-a5ed39f1f59f"
      },
      "source": [
        "# dataset = tf.data.Dataset.from_tensor_slices(([1, 2, 3,4],[5,6,7,8])).shuffle(6)\n",
        "# list(dataset.as_numpy_iterator())\n",
        "# dataset = dataset.batch(3)\n",
        "# list(dataset.as_numpy_iterator())\n",
        "# dataset = dataset.enumerate(start=5)\n",
        "# for element in dataset.as_numpy_iterator():\n",
        "#   print(element)\n"
      ],
      "execution_count": null,
      "outputs": [
        {
          "output_type": "stream",
          "text": [
            "(<tf.Tensor: shape=(3,), dtype=int32, numpy=array([2, 3, 4])>, <tf.Tensor: shape=(3,), dtype=int32, numpy=array([6, 7, 8])>)\n"
          ],
          "name": "stdout"
        }
      ]
    },
    {
      "cell_type": "code",
      "metadata": {
        "tags": [],
        "id": "3yatlJDm97Ch",
        "colab_type": "code",
        "colab": {},
        "outputId": "14a033ea-b972-495f-dbe8-fa888e8dfa02"
      },
      "source": [
        "print(next(iter(dataset)))"
      ],
      "execution_count": null,
      "outputs": [
        {
          "output_type": "error",
          "ename": "NameError",
          "evalue": "name 'dataset' is not defined",
          "traceback": [
            "\u001b[1;31m---------------------------------------------------------------------------\u001b[0m",
            "\u001b[1;31mNameError\u001b[0m                                 Traceback (most recent call last)",
            "\u001b[1;32m<ipython-input-1-ab828ca62776>\u001b[0m in \u001b[0;36m<module>\u001b[1;34m\u001b[0m\n\u001b[1;32m----> 1\u001b[1;33m \u001b[0mprint\u001b[0m\u001b[1;33m(\u001b[0m\u001b[0mnext\u001b[0m\u001b[1;33m(\u001b[0m\u001b[0miter\u001b[0m\u001b[1;33m(\u001b[0m\u001b[0mdataset\u001b[0m\u001b[1;33m)\u001b[0m\u001b[1;33m)\u001b[0m\u001b[1;33m)\u001b[0m\u001b[1;33m\u001b[0m\u001b[1;33m\u001b[0m\u001b[0m\n\u001b[0m",
            "\u001b[1;31mNameError\u001b[0m: name 'dataset' is not defined"
          ]
        }
      ]
    },
    {
      "cell_type": "code",
      "metadata": {
        "id": "00Ryc7Xo97Cj",
        "colab_type": "code",
        "colab": {}
      },
      "source": [
        "class Encoder(tf.keras.Model):\n",
        "    def __init__(self, vocab_size, embedding_dim, enc_units, batch_size):\n",
        "        super(Encoder, self).__init__()\n",
        "        self.batch_size = batch_size\n",
        "        self.enc_units = enc_units\n",
        "        self.embedding = tf.keras.layers.Embedding(vocab_size, embedding_dim)\n",
        "        self.gru = tf.keras.layers.GRU(self.enc_units,\n",
        "        return_sequences=True,\n",
        "        return_state=True,\n",
        "        recurrent_initializer='glorot_uniform')\n",
        "\n",
        "    def call(self, x, hidden):\n",
        "        x = self.embedding(x)\n",
        "        output, state = self.gru(x, initial_state = hidden)\n",
        "        return output, state\n",
        "\n",
        "    def initialize_hidden_state(self):\n",
        "        return tf.zeros((self.batch_size, self.enc_units))"
      ],
      "execution_count": 23,
      "outputs": []
    },
    {
      "cell_type": "code",
      "metadata": {
        "id": "g53wBy_f97Cl",
        "colab_type": "code",
        "colab": {}
      },
      "source": [
        "encoder = Encoder(vocab_inp_size, embedding_dim, units, BATCH_SIZE)\n",
        "\n",
        "sample_hidden = encoder.initialize_hidden_state()"
      ],
      "execution_count": 24,
      "outputs": []
    },
    {
      "cell_type": "code",
      "metadata": {
        "id": "7QkEZ8zb97Co",
        "colab_type": "code",
        "colab": {
          "base_uri": "https://localhost:8080/",
          "height": 34
        },
        "outputId": "3b98984d-8942-43e0-d581-4b74b62f3441"
      },
      "source": [
        "sample_hidden.shape"
      ],
      "execution_count": 25,
      "outputs": [
        {
          "output_type": "execute_result",
          "data": {
            "text/plain": [
              "TensorShape([64, 1024])"
            ]
          },
          "metadata": {
            "tags": []
          },
          "execution_count": 25
        }
      ]
    },
    {
      "cell_type": "code",
      "metadata": {
        "id": "D5T0vx6N97Cq",
        "colab_type": "code",
        "colab": {}
      },
      "source": [
        "example_input_batch, example_target_batch = next(iter(dataset))\n",
        "sample_output, sample_hidden = encoder(example_input_batch, sample_hidden)"
      ],
      "execution_count": 26,
      "outputs": []
    },
    {
      "cell_type": "code",
      "metadata": {
        "id": "HX7LX0S997Ct",
        "colab_type": "code",
        "colab": {
          "base_uri": "https://localhost:8080/",
          "height": 34
        },
        "outputId": "5cb2e5d7-83cb-4d2f-ac79-6602f2f9599d"
      },
      "source": [
        "print('Encoder output shape: batch size, sequence length, units {}'.format(sample_output.shape))"
      ],
      "execution_count": 32,
      "outputs": [
        {
          "output_type": "stream",
          "text": [
            "Encoder output shape: batch size, sequence length, units (64, 16, 1024)\n"
          ],
          "name": "stdout"
        }
      ]
    },
    {
      "cell_type": "code",
      "metadata": {
        "id": "2f8Ebcuw__4D",
        "colab_type": "code",
        "colab": {
          "base_uri": "https://localhost:8080/",
          "height": 34
        },
        "outputId": "14598123-2145-4c64-e4d4-2990c65365e9"
      },
      "source": [
        "print('Encoder Hidden state: batch_size, units {}'.format(sample_hidden.shape))"
      ],
      "execution_count": 33,
      "outputs": [
        {
          "output_type": "stream",
          "text": [
            "Encoder Hidden state: batch_size, units (64, 1024)\n"
          ],
          "name": "stdout"
        }
      ]
    },
    {
      "cell_type": "code",
      "metadata": {
        "id": "JDbbpkRoA0hT",
        "colab_type": "code",
        "colab": {}
      },
      "source": [
        ""
      ],
      "execution_count": null,
      "outputs": []
    }
  ]
}